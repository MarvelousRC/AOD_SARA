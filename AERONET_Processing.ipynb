{
 "cells": [
  {
   "cell_type": "markdown",
   "metadata": {
    "collapsed": true,
    "pycharm": {
     "name": "#%% md\n"
    }
   },
   "source": [
    "# Processing of AERONET data"
   ]
  },
  {
   "cell_type": "code",
   "execution_count": 14,
   "outputs": [],
   "source": [
    "import pandas as pd\n",
    "import numpy as np"
   ],
   "metadata": {
    "collapsed": false,
    "pycharm": {
     "name": "#%% \n",
     "is_executing": false
    }
   }
  },
  {
   "cell_type": "markdown",
   "source": [
    "## 1. Introduction\n",
    "\n",
    "*Aerosol Robotic Network (AERONET)* is a ground-based aerosol network which can provide a long-term and readily accessible public domain database of aerosol optical. \n",
    "\n",
    "We retrieved AERONET data from Goddard Space Flight Center ([GSFC](https://aeronet.gsfc.nasa.gov)) from NASA. The time range of the dataset is October and November of the year 2019. In the spatial extent we specified, there are 37 AERONET stations. However, a lot of them have been discontinued to function, and some of the functioning stations do not provide up-to-date data for researchers to use. Therefore, as we filtered data with respect to their availability and their location, we selected the following 6 AERONET stations for our AOD groud measurement. "
   ],
   "metadata": {
    "collapsed": false,
    "pycharm": {
     "name": "#%% md\n"
    }
   }
  },
  {
   "cell_type": "code",
   "execution_count": 15,
   "outputs": [
    {
     "data": {
      "text/plain": "        Station Name   level        lon       lat   elevation  \\\n0               UCSB     1.5 -119.84536  34.41543        33.0   \n1       Mount_Wilson     1.5 -118.05590  34.22470      1710.0   \n2  Santa_Monica_Colg     1.5  118.47113  34.01685        55.0   \n3            CalTech     2.0 -118.12617  34.13673       260.0   \n4           La_Jolla     1.5 -117.25113  32.86846        80.0   \n5  TABLE_MOUNTAIN_CA     1.5 -117.68000  34.38000      2200.0   \n\n                                             website  \n0   https://aeronet.gsfc.nasa.gov/cgi-bin/data_di...  \n1   https://aeronet.gsfc.nasa.gov/cgi-bin/data_di...  \n2   https://aeronet.gsfc.nasa.gov/cgi-bin/data_di...  \n3   https://aeronet.gsfc.nasa.gov/cgi-bin/data_di...  \n4   https://aeronet.gsfc.nasa.gov/cgi-bin/data_di...  \n5   https://aeronet.gsfc.nasa.gov/cgi-bin/data_di...  ",
      "text/html": "<div>\n<style scoped>\n    .dataframe tbody tr th:only-of-type {\n        vertical-align: middle;\n    }\n\n    .dataframe tbody tr th {\n        vertical-align: top;\n    }\n\n    .dataframe thead th {\n        text-align: right;\n    }\n</style>\n<table border=\"1\" class=\"dataframe\">\n  <thead>\n    <tr style=\"text-align: right;\">\n      <th></th>\n      <th>Station Name</th>\n      <th>level</th>\n      <th>lon</th>\n      <th>lat</th>\n      <th>elevation</th>\n      <th>website</th>\n    </tr>\n  </thead>\n  <tbody>\n    <tr>\n      <th>0</th>\n      <td>UCSB</td>\n      <td>1.5</td>\n      <td>-119.84536</td>\n      <td>34.41543</td>\n      <td>33.0</td>\n      <td>https://aeronet.gsfc.nasa.gov/cgi-bin/data_di...</td>\n    </tr>\n    <tr>\n      <th>1</th>\n      <td>Mount_Wilson</td>\n      <td>1.5</td>\n      <td>-118.05590</td>\n      <td>34.22470</td>\n      <td>1710.0</td>\n      <td>https://aeronet.gsfc.nasa.gov/cgi-bin/data_di...</td>\n    </tr>\n    <tr>\n      <th>2</th>\n      <td>Santa_Monica_Colg</td>\n      <td>1.5</td>\n      <td>118.47113</td>\n      <td>34.01685</td>\n      <td>55.0</td>\n      <td>https://aeronet.gsfc.nasa.gov/cgi-bin/data_di...</td>\n    </tr>\n    <tr>\n      <th>3</th>\n      <td>CalTech</td>\n      <td>2.0</td>\n      <td>-118.12617</td>\n      <td>34.13673</td>\n      <td>260.0</td>\n      <td>https://aeronet.gsfc.nasa.gov/cgi-bin/data_di...</td>\n    </tr>\n    <tr>\n      <th>4</th>\n      <td>La_Jolla</td>\n      <td>1.5</td>\n      <td>-117.25113</td>\n      <td>32.86846</td>\n      <td>80.0</td>\n      <td>https://aeronet.gsfc.nasa.gov/cgi-bin/data_di...</td>\n    </tr>\n    <tr>\n      <th>5</th>\n      <td>TABLE_MOUNTAIN_CA</td>\n      <td>1.5</td>\n      <td>-117.68000</td>\n      <td>34.38000</td>\n      <td>2200.0</td>\n      <td>https://aeronet.gsfc.nasa.gov/cgi-bin/data_di...</td>\n    </tr>\n  </tbody>\n</table>\n</div>"
     },
     "metadata": {},
     "output_type": "execute_result",
     "execution_count": 15
    }
   ],
   "source": [
    "AERONET_sites = pd.read_csv('AERONET_Sites.csv')\n",
    "AERONET_sites"
   ],
   "metadata": {
    "collapsed": false,
    "pycharm": {
     "name": "#%% \n",
     "is_executing": false
    }
   }
  },
  {
   "cell_type": "markdown",
   "source": [
    "### Data preprocessing in Microsoft Excel\n",
    "\n",
    "We gathered raw dataset from the GSFC, and then we use Microsoft Excel to convert the dataset in a form that's convenient to process. We extracted the nearest AERONET observations that are within 30 min around the MODIS local overpass time. We have to note that the timestamps in the AERONET data are based on the GMT Time. \n",
    "\n",
    "Since the AERONE AOD measurement do not include the 550 nm channel which our SARA algorithm is based, we need to interpolate the AOD at 550 nm with the Ångstro€m Exponent a440\u0005675 nm and AOD at 440 nm and 675 nm channels provided in the AERONET data sets. Ångstro€m Exponent (Ångstro€m, 1964) is used to describe the dependency of the aerosol optical thickness, or aerosol extinction coefficient on wavelength. According to Liu et al., the AOD 550 nm could be interpolated as: \n",
    "\n",
    "$\n",
    "\\tau_{550} = \\tau_{675} * (\\frac{550}{675})^{-\\alpha_{440-675nm}}\n",
    "$"
   ],
   "metadata": {
    "collapsed": false,
    "pycharm": {
     "name": "#%% md\n"
    }
   }
  },
  {
   "cell_type": "markdown",
   "source": [
    "https://deepblue.gsfc.nasa.gov/science"
   ],
   "metadata": {
    "collapsed": false
   }
  },
  {
   "cell_type": "code",
   "execution_count": 16,
   "outputs": [
    {
     "data": {
      "text/plain": "  Date(dd:mm:yyyy) Time(hh:mm:ss)  Day_of_Year  Day_of_Year(Fraction)  \\\n0       28:10:2019       21:15:53          301             301.886030   \n1       29:10:2019       20:20:53          302             302.847836   \n2       31:10:2019       21:43:25          304             304.905150   \n3       01:11:2019       20:50:53          305             305.868669   \n4       02:11:2019       21:25:53          306             306.892975   \n5       03:11:2019       20:37:24          307             307.859306   \n6       04:11:2019       21:20:53          308             308.889502   \n7       05:11:2019       20:25:53          309             309.851308   \n\n     AOD550  AOD_675nm  AOD_500nm  AOD_440nm  440-675_Angstrom_Exponent  \\\n0  0.186871   0.136755   0.213958   0.263180                   1.524593   \n1  0.121399   0.101209   0.131591   0.148121                   0.888180   \n2  0.061405   0.051732   0.067380   0.073689                   0.836994   \n3  0.048614   0.041119   0.053354   0.058051                   0.817611   \n4  0.055611   0.046271   0.062686   0.067214                   0.897839   \n5  0.090818   0.073290   0.101274   0.114340                   1.047092   \n6  0.100443   0.080436   0.112123   0.127617                   1.084645   \n7  0.070418   0.058445   0.078993   0.085495                   0.909990   \n\n  AERONET_Site_Name  Site_Latitude(Degrees)  Site_Longitude(Degrees)  \\\n0           CalTech                34.13673              -118.126167   \n1           CalTech                34.13673              -118.126167   \n2           CalTech                34.13673              -118.126167   \n3           CalTech                34.13673              -118.126167   \n4           CalTech                34.13673              -118.126167   \n5           CalTech                34.13673              -118.126167   \n6           CalTech                34.13673              -118.126167   \n7           CalTech                34.13673              -118.126167   \n\n   Site_Elevation(m)  Solar_Zenith_Angle(Degrees)  Optical_Air_Mass  \n0                260                    52.945642          1.656611  \n1                260                    48.847035          1.517466  \n2                260                    57.037637          1.833695  \n3                260                    51.808277          1.614675  \n4                260                    55.508537          1.762221  \n5                260                    51.399359          1.600261  \n6                260                    55.514101          1.762469  \n7                260                    51.282128          1.596191  ",
      "text/html": "<div>\n<style scoped>\n    .dataframe tbody tr th:only-of-type {\n        vertical-align: middle;\n    }\n\n    .dataframe tbody tr th {\n        vertical-align: top;\n    }\n\n    .dataframe thead th {\n        text-align: right;\n    }\n</style>\n<table border=\"1\" class=\"dataframe\">\n  <thead>\n    <tr style=\"text-align: right;\">\n      <th></th>\n      <th>Date(dd:mm:yyyy)</th>\n      <th>Time(hh:mm:ss)</th>\n      <th>Day_of_Year</th>\n      <th>Day_of_Year(Fraction)</th>\n      <th>AOD550</th>\n      <th>AOD_675nm</th>\n      <th>AOD_500nm</th>\n      <th>AOD_440nm</th>\n      <th>440-675_Angstrom_Exponent</th>\n      <th>AERONET_Site_Name</th>\n      <th>Site_Latitude(Degrees)</th>\n      <th>Site_Longitude(Degrees)</th>\n      <th>Site_Elevation(m)</th>\n      <th>Solar_Zenith_Angle(Degrees)</th>\n      <th>Optical_Air_Mass</th>\n    </tr>\n  </thead>\n  <tbody>\n    <tr>\n      <th>0</th>\n      <td>28:10:2019</td>\n      <td>21:15:53</td>\n      <td>301</td>\n      <td>301.886030</td>\n      <td>0.186871</td>\n      <td>0.136755</td>\n      <td>0.213958</td>\n      <td>0.263180</td>\n      <td>1.524593</td>\n      <td>CalTech</td>\n      <td>34.13673</td>\n      <td>-118.126167</td>\n      <td>260</td>\n      <td>52.945642</td>\n      <td>1.656611</td>\n    </tr>\n    <tr>\n      <th>1</th>\n      <td>29:10:2019</td>\n      <td>20:20:53</td>\n      <td>302</td>\n      <td>302.847836</td>\n      <td>0.121399</td>\n      <td>0.101209</td>\n      <td>0.131591</td>\n      <td>0.148121</td>\n      <td>0.888180</td>\n      <td>CalTech</td>\n      <td>34.13673</td>\n      <td>-118.126167</td>\n      <td>260</td>\n      <td>48.847035</td>\n      <td>1.517466</td>\n    </tr>\n    <tr>\n      <th>2</th>\n      <td>31:10:2019</td>\n      <td>21:43:25</td>\n      <td>304</td>\n      <td>304.905150</td>\n      <td>0.061405</td>\n      <td>0.051732</td>\n      <td>0.067380</td>\n      <td>0.073689</td>\n      <td>0.836994</td>\n      <td>CalTech</td>\n      <td>34.13673</td>\n      <td>-118.126167</td>\n      <td>260</td>\n      <td>57.037637</td>\n      <td>1.833695</td>\n    </tr>\n    <tr>\n      <th>3</th>\n      <td>01:11:2019</td>\n      <td>20:50:53</td>\n      <td>305</td>\n      <td>305.868669</td>\n      <td>0.048614</td>\n      <td>0.041119</td>\n      <td>0.053354</td>\n      <td>0.058051</td>\n      <td>0.817611</td>\n      <td>CalTech</td>\n      <td>34.13673</td>\n      <td>-118.126167</td>\n      <td>260</td>\n      <td>51.808277</td>\n      <td>1.614675</td>\n    </tr>\n    <tr>\n      <th>4</th>\n      <td>02:11:2019</td>\n      <td>21:25:53</td>\n      <td>306</td>\n      <td>306.892975</td>\n      <td>0.055611</td>\n      <td>0.046271</td>\n      <td>0.062686</td>\n      <td>0.067214</td>\n      <td>0.897839</td>\n      <td>CalTech</td>\n      <td>34.13673</td>\n      <td>-118.126167</td>\n      <td>260</td>\n      <td>55.508537</td>\n      <td>1.762221</td>\n    </tr>\n    <tr>\n      <th>5</th>\n      <td>03:11:2019</td>\n      <td>20:37:24</td>\n      <td>307</td>\n      <td>307.859306</td>\n      <td>0.090818</td>\n      <td>0.073290</td>\n      <td>0.101274</td>\n      <td>0.114340</td>\n      <td>1.047092</td>\n      <td>CalTech</td>\n      <td>34.13673</td>\n      <td>-118.126167</td>\n      <td>260</td>\n      <td>51.399359</td>\n      <td>1.600261</td>\n    </tr>\n    <tr>\n      <th>6</th>\n      <td>04:11:2019</td>\n      <td>21:20:53</td>\n      <td>308</td>\n      <td>308.889502</td>\n      <td>0.100443</td>\n      <td>0.080436</td>\n      <td>0.112123</td>\n      <td>0.127617</td>\n      <td>1.084645</td>\n      <td>CalTech</td>\n      <td>34.13673</td>\n      <td>-118.126167</td>\n      <td>260</td>\n      <td>55.514101</td>\n      <td>1.762469</td>\n    </tr>\n    <tr>\n      <th>7</th>\n      <td>05:11:2019</td>\n      <td>20:25:53</td>\n      <td>309</td>\n      <td>309.851308</td>\n      <td>0.070418</td>\n      <td>0.058445</td>\n      <td>0.078993</td>\n      <td>0.085495</td>\n      <td>0.909990</td>\n      <td>CalTech</td>\n      <td>34.13673</td>\n      <td>-118.126167</td>\n      <td>260</td>\n      <td>51.282128</td>\n      <td>1.596191</td>\n    </tr>\n  </tbody>\n</table>\n</div>"
     },
     "metadata": {},
     "output_type": "execute_result",
     "execution_count": 16
    }
   ],
   "source": [
    "AERONET_CalTech = pd.read_excel('AERONET DATA.xlsx', 'CalTech')\n",
    "AERONET_CalTech"
   ],
   "metadata": {
    "collapsed": false,
    "pycharm": {
     "name": "#%% \n",
     "is_executing": false
    }
   }
  },
  {
   "cell_type": "code",
   "execution_count": 16,
   "outputs": [],
   "source": [
    "\n"
   ],
   "metadata": {
    "collapsed": false,
    "pycharm": {
     "name": "#%%\n",
     "is_executing": false
    }
   }
  }
 ],
 "metadata": {
  "kernelspec": {
   "display_name": "Python 3",
   "language": "python",
   "name": "python3"
  },
  "language_info": {
   "codemirror_mode": {
    "name": "ipython",
    "version": 2
   },
   "file_extension": ".py",
   "mimetype": "text/x-python",
   "name": "python",
   "nbconvert_exporter": "python",
   "pygments_lexer": "ipython2",
   "version": "2.7.6"
  },
  "pycharm": {
   "stem_cell": {
    "cell_type": "raw",
    "source": [],
    "metadata": {
     "collapsed": false
    }
   }
  }
 },
 "nbformat": 4,
 "nbformat_minor": 0
}