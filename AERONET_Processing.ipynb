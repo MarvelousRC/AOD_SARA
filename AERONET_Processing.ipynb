{
 "cells": [
  {
   "cell_type": "markdown",
   "metadata": {
    "collapsed": true,
    "pycharm": {
     "name": "#%% md\n"
    }
   },
   "source": [
    "# Processing of AERONET data"
   ]
  },
  {
   "cell_type": "code",
   "execution_count": 1,
   "outputs": [],
   "source": [
    "import pandas as pd\n",
    "import numpy as np\n",
    "import readData2 as rd2\n",
    "import gdal\n",
    "import math\n",
    "import matplotlib.pyplot as plt"
   ],
   "metadata": {
    "collapsed": false,
    "pycharm": {
     "name": "#%% \n",
     "is_executing": false
    }
   }
  },
  {
   "cell_type": "markdown",
   "source": [
    "## 1. Introduction\n",
    "\n",
    "*Aerosol Robotic Network (AERONET)* is a ground-based aerosol network which can provide a long-term and readily accessible public domain database of aerosol optical. \n",
    "\n",
    "We retrieved AERONET data from Goddard Space Flight Center ([GSFC](https://aeronet.gsfc.nasa.gov)) from NASA. The time range of the dataset is October and November of the year 2019. In the spatial extent we specified, there are 37 AERONET stations. However, a lot of them have been discontinued to function, and some of the functioning stations do not provide up-to-date data for researchers to use. Therefore, as we filtered data with respect to their availability and their location, we selected the following 6 AERONET stations for our AOD groud measurement. "
   ],
   "metadata": {
    "collapsed": false,
    "pycharm": {
     "name": "#%% md\n"
    }
   }
  },
  {
   "cell_type": "code",
   "execution_count": 2,
   "outputs": [
    {
     "data": {
      "text/plain": "        Station Name   level        lon       lat   elevation  \\\n0               UCSB     1.5 -119.84536  34.41543        33.0   \n1       Mount_Wilson     1.5 -118.05590  34.22470      1710.0   \n2  Santa_Monica_Colg     1.5 -118.47113  34.01685        55.0   \n3            CalTech     2.0 -118.12617  34.13673       260.0   \n4           La_Jolla     1.5 -117.25113  32.86846        80.0   \n5  TABLE_MOUNTAIN_CA     1.5 -117.68000  34.38000      2200.0   \n\n                                             website  \n0   https://aeronet.gsfc.nasa.gov/cgi-bin/data_di...  \n1   https://aeronet.gsfc.nasa.gov/cgi-bin/data_di...  \n2   https://aeronet.gsfc.nasa.gov/cgi-bin/data_di...  \n3   https://aeronet.gsfc.nasa.gov/cgi-bin/data_di...  \n4   https://aeronet.gsfc.nasa.gov/cgi-bin/data_di...  \n5   https://aeronet.gsfc.nasa.gov/cgi-bin/data_di...  ",
      "text/html": "<div>\n<style scoped>\n    .dataframe tbody tr th:only-of-type {\n        vertical-align: middle;\n    }\n\n    .dataframe tbody tr th {\n        vertical-align: top;\n    }\n\n    .dataframe thead th {\n        text-align: right;\n    }\n</style>\n<table border=\"1\" class=\"dataframe\">\n  <thead>\n    <tr style=\"text-align: right;\">\n      <th></th>\n      <th>Station Name</th>\n      <th>level</th>\n      <th>lon</th>\n      <th>lat</th>\n      <th>elevation</th>\n      <th>website</th>\n    </tr>\n  </thead>\n  <tbody>\n    <tr>\n      <th>0</th>\n      <td>UCSB</td>\n      <td>1.5</td>\n      <td>-119.84536</td>\n      <td>34.41543</td>\n      <td>33.0</td>\n      <td>https://aeronet.gsfc.nasa.gov/cgi-bin/data_di...</td>\n    </tr>\n    <tr>\n      <th>1</th>\n      <td>Mount_Wilson</td>\n      <td>1.5</td>\n      <td>-118.05590</td>\n      <td>34.22470</td>\n      <td>1710.0</td>\n      <td>https://aeronet.gsfc.nasa.gov/cgi-bin/data_di...</td>\n    </tr>\n    <tr>\n      <th>2</th>\n      <td>Santa_Monica_Colg</td>\n      <td>1.5</td>\n      <td>-118.47113</td>\n      <td>34.01685</td>\n      <td>55.0</td>\n      <td>https://aeronet.gsfc.nasa.gov/cgi-bin/data_di...</td>\n    </tr>\n    <tr>\n      <th>3</th>\n      <td>CalTech</td>\n      <td>2.0</td>\n      <td>-118.12617</td>\n      <td>34.13673</td>\n      <td>260.0</td>\n      <td>https://aeronet.gsfc.nasa.gov/cgi-bin/data_di...</td>\n    </tr>\n    <tr>\n      <th>4</th>\n      <td>La_Jolla</td>\n      <td>1.5</td>\n      <td>-117.25113</td>\n      <td>32.86846</td>\n      <td>80.0</td>\n      <td>https://aeronet.gsfc.nasa.gov/cgi-bin/data_di...</td>\n    </tr>\n    <tr>\n      <th>5</th>\n      <td>TABLE_MOUNTAIN_CA</td>\n      <td>1.5</td>\n      <td>-117.68000</td>\n      <td>34.38000</td>\n      <td>2200.0</td>\n      <td>https://aeronet.gsfc.nasa.gov/cgi-bin/data_di...</td>\n    </tr>\n  </tbody>\n</table>\n</div>"
     },
     "metadata": {},
     "output_type": "execute_result",
     "execution_count": 2
    }
   ],
   "source": [
    "AERONET_sites = pd.read_csv('AERONET_Sites.csv')\n",
    "AERONET_sites"
   ],
   "metadata": {
    "collapsed": false,
    "pycharm": {
     "name": "#%% \n",
     "is_executing": false
    }
   }
  },
  {
   "cell_type": "markdown",
   "source": [
    "### Data preprocessing in Microsoft Excel\n",
    "\n",
    "We gathered raw dataset from the GSFC, and then we use Microsoft Excel to convert the dataset in a form that's convenient to process. We extracted the nearest AERONET observations that are within 30 min around the MODIS local overpass time. We have to note that the timestamps in the AERONET data are based on the GMT Time. \n",
    "\n",
    "Since the AERONET AOD measurement do not include the 550 nm channel which our SARA algorithm is based, we need to interpolate the AOD at 550 nm with the Ångstro€m Exponent a440\u0005675 nm and AOD at 440 nm and 675 nm channels provided in the AERONET data sets. Ångstro€m Exponent (Ångstro€m, 1964) is used to describe the dependency of the aerosol optical thickness, or aerosol extinction coefficient on wavelength. According to Liu et al., the AOD 550 nm could be interpolated as: \n",
    "\n",
    "$\n",
    "\\tau_{550} = \\tau_{675} * (\\frac{550}{675})^{-\\alpha_{440-675nm}}\n",
    "$"
   ],
   "metadata": {
    "collapsed": false,
    "pycharm": {
     "name": "#%% md\n"
    }
   }
  },
  {
   "cell_type": "markdown",
   "source": [
    "https://deepblue.gsfc.nasa.gov/science"
   ],
   "metadata": {
    "collapsed": false
   }
  },
  {
   "cell_type": "code",
   "execution_count": 3,
   "outputs": [],
   "source": [
    "AERONET_CalTech = pd.read_excel('AERONET DATA.xlsx', 'CalTech')\n",
    "AERONET_CalTech\n",
    "\n",
    "# Rayleigh Optical Depth\n",
    "tau_R = 0.09847234720729856"
   ],
   "metadata": {
    "collapsed": false,
    "pycharm": {
     "name": "#%% \n",
     "is_executing": false
    }
   }
  },
  {
   "cell_type": "code",
   "execution_count": 4,
   "outputs": [
    {
     "name": "stdout",
     "text": [
      "Pandas(Index=0, _1='UCSB', _2=1.5, _3=-119.84536000000001, _4=34.41543, _5=33.0, _6=' https://aeronet.gsfc.nasa.gov/cgi-bin/data_display_aod_v3?site=UCSB')\nPandas(Index=1, _1='Mount_Wilson', _2=1.5, _3=-118.0559, _4=34.2247, _5=1710.0, _6=' https://aeronet.gsfc.nasa.gov/cgi-bin/data_display_aod_v3?site=Mount_Wilson')\nPandas(Index=2, _1='Santa_Monica_Colg', _2=1.5, _3=-118.47113, _4=34.01685, _5=55.0, _6=' https://aeronet.gsfc.nasa.gov/cgi-bin/data_display_aod_v3?site=Santa_Monica_Colg')\nPandas(Index=3, _1='CalTech', _2=2.0, _3=-118.12617, _4=34.13673, _5=260.0, _6=' https://aeronet.gsfc.nasa.gov/cgi-bin/data_display_aod_v3?site=CalTech')\nPandas(Index=4, _1='La_Jolla', _2=1.5, _3=-117.25113, _4=32.86846, _5=80.0, _6=' https://aeronet.gsfc.nasa.gov/cgi-bin/data_display_aod_v3?site=La_Jolla')\nPandas(Index=5, _1='TABLE_MOUNTAIN_CA', _2=1.5, _3=-117.68, _4=34.38, _5=2200.0, _6=' https://aeronet.gsfc.nasa.gov/cgi-bin/data_display_aod_v3?site=TABLE_MOUNTAIN_CA')\n"
     ],
     "output_type": "stream"
    },
    {
     "data": {
      "text/plain": "        Station Name   level        lon       lat   elevation  \\\n0               UCSB     1.5 -119.84536  34.41543        33.0   \n1       Mount_Wilson     1.5 -118.05590  34.22470      1710.0   \n2  Santa_Monica_Colg     1.5 -118.47113  34.01685        55.0   \n3            CalTech     2.0 -118.12617  34.13673       260.0   \n4           La_Jolla     1.5 -117.25113  32.86846        80.0   \n5  TABLE_MOUNTAIN_CA     1.5 -117.68000  34.38000      2200.0   \n\n                                             website  pixel  line  \n0   https://aeronet.gsfc.nasa.gov/cgi-bin/data_di...    257   130  \n1   https://aeronet.gsfc.nasa.gov/cgi-bin/data_di...    655   172  \n2   https://aeronet.gsfc.nasa.gov/cgi-bin/data_di...    563   218  \n3   https://aeronet.gsfc.nasa.gov/cgi-bin/data_di...    640   192  \n4   https://aeronet.gsfc.nasa.gov/cgi-bin/data_di...    834   474  \n5   https://aeronet.gsfc.nasa.gov/cgi-bin/data_di...    739   138  ",
      "text/html": "<div>\n<style scoped>\n    .dataframe tbody tr th:only-of-type {\n        vertical-align: middle;\n    }\n\n    .dataframe tbody tr th {\n        vertical-align: top;\n    }\n\n    .dataframe thead th {\n        text-align: right;\n    }\n</style>\n<table border=\"1\" class=\"dataframe\">\n  <thead>\n    <tr style=\"text-align: right;\">\n      <th></th>\n      <th>Station Name</th>\n      <th>level</th>\n      <th>lon</th>\n      <th>lat</th>\n      <th>elevation</th>\n      <th>website</th>\n      <th>pixel</th>\n      <th>line</th>\n    </tr>\n  </thead>\n  <tbody>\n    <tr>\n      <th>0</th>\n      <td>UCSB</td>\n      <td>1.5</td>\n      <td>-119.84536</td>\n      <td>34.41543</td>\n      <td>33.0</td>\n      <td>https://aeronet.gsfc.nasa.gov/cgi-bin/data_di...</td>\n      <td>257</td>\n      <td>130</td>\n    </tr>\n    <tr>\n      <th>1</th>\n      <td>Mount_Wilson</td>\n      <td>1.5</td>\n      <td>-118.05590</td>\n      <td>34.22470</td>\n      <td>1710.0</td>\n      <td>https://aeronet.gsfc.nasa.gov/cgi-bin/data_di...</td>\n      <td>655</td>\n      <td>172</td>\n    </tr>\n    <tr>\n      <th>2</th>\n      <td>Santa_Monica_Colg</td>\n      <td>1.5</td>\n      <td>-118.47113</td>\n      <td>34.01685</td>\n      <td>55.0</td>\n      <td>https://aeronet.gsfc.nasa.gov/cgi-bin/data_di...</td>\n      <td>563</td>\n      <td>218</td>\n    </tr>\n    <tr>\n      <th>3</th>\n      <td>CalTech</td>\n      <td>2.0</td>\n      <td>-118.12617</td>\n      <td>34.13673</td>\n      <td>260.0</td>\n      <td>https://aeronet.gsfc.nasa.gov/cgi-bin/data_di...</td>\n      <td>640</td>\n      <td>192</td>\n    </tr>\n    <tr>\n      <th>4</th>\n      <td>La_Jolla</td>\n      <td>1.5</td>\n      <td>-117.25113</td>\n      <td>32.86846</td>\n      <td>80.0</td>\n      <td>https://aeronet.gsfc.nasa.gov/cgi-bin/data_di...</td>\n      <td>834</td>\n      <td>474</td>\n    </tr>\n    <tr>\n      <th>5</th>\n      <td>TABLE_MOUNTAIN_CA</td>\n      <td>1.5</td>\n      <td>-117.68000</td>\n      <td>34.38000</td>\n      <td>2200.0</td>\n      <td>https://aeronet.gsfc.nasa.gov/cgi-bin/data_di...</td>\n      <td>739</td>\n      <td>138</td>\n    </tr>\n  </tbody>\n</table>\n</div>"
     },
     "metadata": {},
     "output_type": "execute_result",
     "execution_count": 4
    }
   ],
   "source": [
    "pixels = []\n",
    "lines = []\n",
    "observations = []\n",
    "for row in AERONET_sites.itertuples():\n",
    "    print(row)\n",
    "    lon = row._4\n",
    "    lat = row._3\n",
    "    pixel, line = rd2.world2Pixel(lat, lon)\n",
    "    pixels.append(pixel)\n",
    "    lines.append(line)\n",
    "    observations.append({\n",
    "        'name' : row._1,\n",
    "        'data' : pd.read_excel('AERONET DATA.xlsx', row._1)\n",
    "    })\n",
    "    \n",
    "AERONET_sites['pixel'] = pd.Series(pixels, AERONET_sites.index)\n",
    "AERONET_sites['line'] = pd.Series(lines, AERONET_sites.index)\n",
    "AERONET_sites"
   ],
   "metadata": {
    "collapsed": false,
    "pycharm": {
     "name": "#%%\n",
     "is_executing": false
    }
   }
  },
  {
   "cell_type": "code",
   "execution_count": 5,
   "outputs": [],
   "source": [
    "import readData2 as rd2\n",
    "for dofy in range(298, 310):\n",
    "    myd03 = rd2.read_myd03(dofy)\n",
    "    sensorZenith = myd03['SensorZenith'].ReadAsArray()\n",
    "    solarZenith = myd03['SolarZenith'].ReadAsArray()\n",
    "    µ_s = np.cos(rd2.to_radian(solarZenith))\n",
    "    µ_v = np.cos(rd2.to_radian(sensorZenith))\n",
    "    rd2.matrix_to_geo_tiff('MYD03/µ_s_{:03d}.tif'.format(dofy), µ_s)\n",
    "    rd2.matrix_to_geo_tiff('MYD03/µ_v_{:03d}.tif'.format(dofy), µ_v)"
   ],
   "metadata": {
    "collapsed": false,
    "pycharm": {
     "name": "#%%\n",
     "is_executing": false
    }
   }
  },
  {
   "cell_type": "code",
   "execution_count": 6,
   "outputs": [],
   "source": [
    "def collecting_data_for_equation(dofy):\n",
    "    day_values = []\n",
    "    for site in AERONET_sites.itertuples():\n",
    "        aeronet_ob = observations[site.Index]['data']\n",
    "        aeronet_ob = aeronet_ob.loc[aeronet_ob['Day_of_Year'] == dofy]\n",
    "        if len(aeronet_ob.AERONET_Site_Name.values) == 0:\n",
    "            continue\n",
    "        aeronet_ob = aeronet_ob.AOD550.values[0]\n",
    "        pixel = site[7]\n",
    "        line = site[8]\n",
    "        TOA = gdal.Open('MYD02/TOA_{:03d}.tif'.format(dofy)).ReadAsArray()[line, pixel]\n",
    "        Ray = gdal.Open('Rayleigh_Reflectance/2019{:03d}.tif'.format(dofy)).ReadAsArray()[line, pixel]\n",
    "        SurRef = gdal.Open('MYD09_Project/A2019{:03d}_Project_Clipped.tif'.format(dofy)).ReadAsArray()[line, pixel]\n",
    "        if TOA > 1 or Ray > 1 or SurRef > 1:\n",
    "            continue\n",
    "        cos_so_ze = gdal.Open('MYD03/µ_s_{:03d}.tif'.format(dofy)).ReadAsArray()[line, pixel]\n",
    "        cos_se_ze = gdal.Open('MYD03/µ_v_{:03d}.tif'.format(dofy)).ReadAsArray()[line, pixel]\n",
    "        P_a = gdal.Open('Rayleigh_Reflectance/P_a_2019{:03d}.tif'.format(dofy)).ReadAsArray()[line, pixel]\n",
    "        # Rayleigh_Ref = gdal.Open('Rayleigh_Reflectance/2019{:03d}.tif'.format(dofy)).ReadAsArray()[line, pixel]\n",
    "        day_values.append({\n",
    "            'aod' : aeronet_ob,\n",
    "            'TOA' : TOA,\n",
    "            'SurRef' : SurRef,\n",
    "            'µ_s': cos_so_ze,\n",
    "            'µ_v': cos_se_ze,\n",
    "            'P_a': P_a,\n",
    "            'Ray': Ray\n",
    "        })\n",
    "    return day_values\n",
    "    \n"
   ],
   "metadata": {
    "collapsed": false,
    "pycharm": {
     "name": "#%%\n",
     "is_executing": false
    }
   }
  },
  {
   "cell_type": "code",
   "execution_count": 52,
   "outputs": [],
   "source": [
    "def compute_w_g(data):\n",
    "    if len(data)<=1:\n",
    "        return -1, -1, -1\n",
    "    residuals = np.zeros((101, 101), dtype=np.float64)\n",
    "    min_res = 1000000000\n",
    "    min_w = -1\n",
    "    min_g = -1\n",
    "    for i100 in range(0, 101): # w\n",
    "        i = i100/10\n",
    "        for j100 in range(0,101): # g\n",
    "            j = j100/100\n",
    "            residual = 0\n",
    "            for d in data:\n",
    "                numerator = math.pow(math.e, (-(d['aod'] + tau_R)/d['µ_s'])) * math.pow(math.e, (-(d['aod'] + tau_R)/d['µ_v'])) * d['SurRef']\n",
    "                denominator = 1 - d['SurRef'] * (0.92 * tau_R + (1 - j) * d['aod']) * math.pow(math.e, -(tau_R + d['aod']))\n",
    "                right = 2*d['TOA'] - d['Ray'] - 0.2* numerator / denominator ######\n",
    "                right = right * 4 * d['µ_s'] * d['µ_v'] / (i * d['P_a'])\n",
    "                # print(numerator, denominator, right)\n",
    "                # if right < 0:\n",
    "                #     residual = residual + 10000\n",
    "                # residual = residual + (right - d['aod']) * (right - d['aod'])\n",
    "                residual = residual + abs(right - d['aod'])# * (right - d['aod'])\n",
    "            #     if residual > min_res:\n",
    "            #         break\n",
    "            if residual < min_res:\n",
    "                min_res = residual\n",
    "                min_w = i\n",
    "                min_g = j\n",
    "            residuals[i100-30, j100] = residual/len(data)\n",
    "    min_ids = np.argmin(residuals)\n",
    "    min_res = np.min(residuals)\n",
    "    # print(residuals)\n",
    "    plt.imshow(residuals)\n",
    "    plt.colorbar()\n",
    "    return min_w, min_g, min_res\n",
    "        "
   ],
   "metadata": {
    "collapsed": false,
    "pycharm": {
     "name": "#%%\n",
     "is_executing": false
    }
   }
  },
  {
   "cell_type": "code",
   "execution_count": 53,
   "outputs": [
    {
     "name": "stderr",
     "text": [
      "/Users/weiye/.conda/envs/New37/lib/python3.7/site-packages/ipykernel_launcher.py:17: RuntimeWarning: divide by zero encountered in double_scalars\n"
     ],
     "output_type": "stream"
    },
    {
     "name": "stdout",
     "text": [
      "[[0.06247223 0.06247293 0.06247364 ... 0.06254116 0.06254186 0.06254256]\n [0.06056757 0.06056825 0.06056893 ... 0.06063428 0.06063495 0.06063563]\n [0.05878195 0.05878261 0.05878327 ... 0.05884657 0.05884723 0.05884788]\n ...\n [0.06903272 0.0690335  0.06903429 ... 0.06910931 0.06911009 0.06911087]\n [0.06668969 0.06669044 0.0666912  ... 0.06676354 0.06676429 0.06676504]\n [0.06450824 0.06450897 0.0645097  ... 0.06457955 0.06458028 0.064581  ]]\n7.1 1.0 0.033290608654907905\n"
     ],
     "output_type": "stream"
    },
    {
     "data": {
      "text/plain": "<Figure size 432x288 with 2 Axes>",
      "image/png": "[encoded data removed]"
     },
     "metadata": {
      "needs_background": "light"
     },
     "output_type": "display_data"
    }
   ],
   "source": [
    "data298 = collecting_data_for_equation(299)\n",
    "min_w, min_g, min_res = compute_w_g(data298)\n",
    "print(min_w, min_g, min_res)"
   ],
   "metadata": {
    "collapsed": false,
    "pycharm": {
     "name": "#%%\n",
     "is_executing": false
    }
   }
  },
  {
   "cell_type": "code",
   "execution_count": 54,
   "outputs": [
    {
     "name": "stderr",
     "text": [
      "/Users/weiye/.conda/envs/New37/lib/python3.7/site-packages/ipykernel_launcher.py:17: RuntimeWarning: divide by zero encountered in double_scalars\n"
     ],
     "output_type": "stream"
    },
    {
     "name": "stdout",
     "text": [
      "[[0.04299745 0.04299758 0.04299772 ... 0.04301063 0.04301076 0.04301089]\n [0.04076326 0.04076339 0.04076352 ... 0.04077602 0.04077615 0.04077627]\n [0.03866871 0.03866884 0.03866897 ... 0.03868107 0.03868119 0.03868132]\n ...\n [0.05069297 0.05069312 0.05069327 ... 0.05070761 0.05070776 0.05070791]\n [0.04794457 0.04794471 0.04794486 ... 0.04795869 0.04795883 0.04795898]\n [0.04538571 0.04538585 0.04538599 ... 0.04539935 0.04539948 0.04539962]]\n6.4 1.0 0.013315260550890681\n",
      "[[0.06247223 0.06247293 0.06247364 ... 0.06254116 0.06254186 0.06254256]\n [0.06056757 0.06056825 0.06056893 ... 0.06063428 0.06063495 0.06063563]\n [0.05878195 0.05878261 0.05878327 ... 0.05884657 0.05884723 0.05884788]\n ...\n [0.06903272 0.0690335  0.06903429 ... 0.06910931 0.06911009 0.06911087]\n [0.06668969 0.06669044 0.0666912  ... 0.06676354 0.06676429 0.06676504]\n [0.06450824 0.06450897 0.0645097  ... 0.06457955 0.06458028 0.064581  ]]\n7.1 1.0 0.033290608654907905\n",
      "[[0.03515288 0.0351523  0.03515172 ... 0.03509635 0.03509578 0.0350952 ]\n [0.03481607 0.03481551 0.03481495 ... 0.03476136 0.03476081 0.03476025]\n [0.03450031 0.03449977 0.03449922 ... 0.03444731 0.03444677 0.03444624]\n ...\n [0.03631301 0.03631236 0.03631172 ... 0.03625019 0.03624956 0.03624892]\n [0.03589868 0.03589806 0.03589743 ... 0.0358381  0.03583749 0.03583688]\n [0.03551292 0.03551232 0.03551172 ... 0.03545444 0.03545385 0.03545325]]\n5.9 1.0 0.02999147547327044\n",
      "[[0.03743312 0.03743315 0.03743317 ... 0.03743583 0.03743586 0.03743588]\n [0.03701176 0.03701178 0.03701181 ... 0.03701438 0.03701441 0.03701443]\n [0.03661673 0.03661676 0.03661678 ... 0.03661927 0.0366193  0.03661932]\n ...\n [0.03946537 0.0394659  0.03946643 ... 0.03951724 0.03951777 0.03951829]\n [0.03836614 0.03836617 0.03836619 ... 0.03836904 0.03836907 0.0383691 ]\n [0.03788354 0.03788357 0.0378836  ... 0.03788634 0.03788637 0.0378864 ]]\n3.4 0.0 0.035896387189810856\n",
      "[[0.03076644 0.03076557 0.03076471 ... 0.03068253 0.03068168 0.03068084]\n [0.03120594 0.0312051  0.03120427 ... 0.03112474 0.03112392 0.0311231 ]\n [0.03161797 0.03161716 0.03161635 ... 0.03153931 0.03153851 0.03153772]\n ...\n [0.03237525 0.03237504 0.03237483 ... 0.03235478 0.03235457 0.03235436]\n [0.03081095 0.03081075 0.03081055 ... 0.03079121 0.03079101 0.03079081]\n [0.03029663 0.03029573 0.03029484 ... 0.03020983 0.03020895 0.03020807]]\n2.9 1.0 0.03020807478575397\n",
      "[[0.02849742 0.02849704 0.02849666 ... 0.02846057 0.0284602  0.02845983]\n [0.02713957 0.02713921 0.02713884 ... 0.02710392 0.02710356 0.0271032 ]\n [0.02586659 0.02586624 0.02586588 ... 0.02583205 0.0258317  0.02583135]\n ...\n [0.03317443 0.03317401 0.03317359 ... 0.0331335  0.03313308 0.03313267]\n [0.03150407 0.03150366 0.03150326 ... 0.0314646  0.0314642  0.0314638 ]\n [0.0299489  0.02994851 0.02994812 ... 0.02991079 0.0299104  0.02991002]]\n3.6 1.0 0.02238489575975709\n",
      "[[0.07585514 0.07585625 0.07585735 ... 0.07596269 0.07596378 0.07596487]\n [0.07193609 0.07193716 0.07193823 ... 0.07204017 0.07204123 0.07204228]\n [0.06826199 0.06826302 0.06826406 ... 0.06836281 0.06836383 0.06836485]\n ...\n [0.08935408 0.08935531 0.08935654 ... 0.08947358 0.08947479 0.089476  ]\n [0.08453303 0.08453422 0.0845354  ... 0.08464826 0.08464943 0.08465059]\n [0.08004447 0.08004561 0.08004676 ... 0.08015572 0.08015685 0.08015798]]\n8.0 1.0 0.01105867642749821\n",
      "[[0.05128114 0.05128149 0.05128183 ... 0.05131468 0.05131502 0.05131536]\n [0.04989389 0.04989423 0.04989456 ... 0.04992635 0.04992668 0.04992701]\n [0.04859335 0.04859367 0.04859399 ... 0.04862479 0.04862511 0.04862543]\n ...\n [0.05605945 0.05605983 0.05606021 ... 0.05609671 0.05609709 0.05609747]\n [0.05435291 0.05435328 0.05435365 ... 0.05438885 0.05438921 0.05438958]\n [0.05276407 0.05276442 0.05276478 ... 0.05279876 0.05279911 0.05279947]]\n6.1 0.0 0.03507649231582719\n",
      "[[0.07411452 0.07411731 0.0741201  ... 0.0743791  0.07438172 0.07438432]\n [0.07054773 0.07055043 0.07055313 ... 0.07080378 0.07080631 0.07080883]\n [0.06720387 0.06720648 0.0672091  ... 0.06745191 0.06745436 0.06745681]\n ...\n [0.08640013 0.08640323 0.08640633 ... 0.08669411 0.08669701 0.08669991]\n [0.08201241 0.0820154  0.08201839 ... 0.0822959  0.08229869 0.08230149]\n [0.0779273  0.07793018 0.07793307 ... 0.078201   0.0782037  0.0782064 ]]\n5.5 1.0 0.031167238419063194\n",
      "[[0.0211341  0.02113426 0.02113443 ... 0.02115026 0.02115043 0.02115059]\n [0.01961416 0.01961432 0.01961448 ... 0.01962958 0.01962974 0.01962989]\n [0.01897103 0.01897118 0.01897134 ... 0.01898597 0.01898612 0.01898627]\n ...\n [0.02683673 0.02683692 0.0268371  ... 0.0268547  0.02685488 0.02685506]\n [0.02480008 0.02480025 0.02480043 ... 0.0248174  0.02481757 0.02481775]\n [0.02290388 0.02290405 0.02290422 ... 0.02292061 0.02292077 0.02292094]]\n3.6 1.0 0.016983497327141956\n",
      "[[0.03308553 0.03308615 0.03308677 ... 0.03314542 0.03314602 0.03314663]\n [0.03112847 0.03112907 0.03112966 ... 0.03118642 0.03118701 0.03118759]\n [0.02950803 0.02950798 0.02950794 ... 0.029504   0.02950396 0.02950392]\n ...\n [0.03982653 0.03982722 0.0398279  ... 0.03989307 0.03989374 0.03989441]\n [0.03741903 0.03741969 0.03742035 ... 0.03748319 0.03748384 0.03748449]\n [0.03517757 0.03517821 0.03517884 ... 0.03523952 0.03524014 0.03524077]]\n3.9 1.0 0.02646876331964193\n",
      "[[0.02758318 0.02758378 0.02758437 ... 0.02764159 0.02764218 0.02764277]\n [0.02451417 0.02451475 0.02451533 ... 0.02457069 0.02457127 0.02457184]\n [0.02284818 0.02284828 0.02284839 ... 0.02285839 0.02285849 0.02285859]\n ...\n [0.03815421 0.03815488 0.03815554 ... 0.03821911 0.03821977 0.03822043]\n [0.03437884 0.03437948 0.03438013 ... 0.03444143 0.03444206 0.03444269]\n [0.03086384 0.03086446 0.03086508 ... 0.03092427 0.03092488 0.03092549]]\n4.4 0.0 0.011090031317724491\n"
     ],
     "output_type": "stream"
    },
    {
     "data": {
      "text/plain": "<Figure size 432x288 with 13 Axes>",
      "image/png": "[encoded data removed]"
     },
     "metadata": {
      "needs_background": "light"
     },
     "output_type": "display_data"
    }
   ],
   "source": [
    "dataset = []\n",
    "w = []\n",
    "g = []\n",
    "for dofy in range(298,310):  \n",
    "    dataset.append(collecting_data_for_equation(dofy))\n",
    "    min_w, min_g, min_res = compute_w_g(dataset[dofy-298])\n",
    "    print(min_w, min_g, min_res)\n",
    "    w.append(min_w)\n",
    "    g.append(min_g)\n",
    "    \n",
    "\n"
   ],
   "metadata": {
    "collapsed": false,
    "pycharm": {
     "name": "#%%\n",
     "is_executing": false
    }
   }
  },
  {
   "cell_type": "code",
   "execution_count": 10,
   "outputs": [
    {
     "name": "stdout",
     "text": [
      "1.0 1.0 0.07503899628122565\n"
     ],
     "output_type": "stream"
    }
   ],
   "source": [],
   "metadata": {
    "collapsed": false,
    "pycharm": {
     "name": "#%%\n",
     "is_executing": false
    }
   }
  },
  {
   "cell_type": "code",
   "execution_count": 49,
   "outputs": [
    {
     "name": "stdout",
     "text": [
      "0.028704979349108074 0.04056082469371286\n"
     ],
     "output_type": "stream"
    }
   ],
   "source": [
    "d = data298[1]\n",
    "i = min_w\n",
    "j = min_g\n",
    "numerator = math.pow(math.e, (-(d['aod'] + tau_R)/d['µ_s'])) * math.pow(math.e, (-(d['aod'] + tau_R)/d['µ_v'])) * d['SurRef']\n",
    "denominator = 1 - d['SurRef'] * (0.92 * tau_R + (1 - j) * d['aod']) * math.pow(math.e, -(tau_R + d['aod']))\n",
    "right = 2*d['TOA'] - d['Ray'] - 0.2* numerator / denominator\n",
    "right = right * 4 * d['µ_s'] * d['µ_v'] / (i * d['P_a'])\n",
    "\n",
    "print(right, d['aod'])\n",
    "# print(d['TOA'] - d['Ray'])"
   ],
   "metadata": {
    "collapsed": false,
    "pycharm": {
     "name": "#%%\n",
     "is_executing": false
    }
   }
  },
  {
   "cell_type": "code",
   "execution_count": 55,
   "outputs": [],
   "source": [
    "np.save('para_g.npy', g)\n",
    "np.save('para_omega.npy', w)\n"
   ],
   "metadata": {
    "collapsed": false,
    "pycharm": {
     "name": "#%%\n",
     "is_executing": false
    }
   }
  },
  {
   "cell_type": "code",
   "execution_count": null,
   "outputs": [],
   "source": [
    "\n"
   ],
   "metadata": {
    "collapsed": false,
    "pycharm": {
     "name": "#%%\n"
    }
   }
  }
 ],
 "metadata": {
  "kernelspec": {
   "display_name": "Python 3",
   "language": "python",
   "name": "python3"
  },
  "language_info": {
   "codemirror_mode": {
    "name": "ipython",
    "version": 2
   },
   "file_extension": ".py",
   "mimetype": "text/x-python",
   "name": "python",
   "nbconvert_exporter": "python",
   "pygments_lexer": "ipython2",
   "version": "2.7.6"
  },
  "pycharm": {
   "stem_cell": {
    "cell_type": "raw",
    "source": [],
    "metadata": {
     "collapsed": false
    }
   }
  }
 },
 "nbformat": 4,
 "nbformat_minor": 0
}