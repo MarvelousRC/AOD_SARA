{
 "cells": [
  {
   "cell_type": "markdown",
   "metadata": {
    "collapsed": true,
    "pycharm": {
     "name": "#%% md\n"
    }
   },
   "source": [
    "# Processing of AERONET data\n",
    "\n",
    "### WEIYE CHEN\n",
    "MS Student in Geography\n",
    "\n",
    "Department of Geography and Geographic Information Science\n",
    "\n",
    "**University of Illinois at Urbana-Champaign**\n",
    "\n",
    "Urbana IL, USA\n",
    "\n",
    "BS in Geographic Information Science, Zhejiang University, Hangzhou, China"
   ]
  },
  {
   "cell_type": "code",
   "execution_count": 13,
   "metadata": {
    "pycharm": {
     "is_executing": false,
     "name": "#%% \n"
    }
   },
   "outputs": [],
   "source": [
    "import pandas as pd\n",
    "import numpy as np\n",
    "import readData2 as rd2\n",
    "import gdal\n",
    "import math\n",
    "import matplotlib.pyplot as plt"
   ]
  },
  {
   "cell_type": "markdown",
   "metadata": {
    "pycharm": {
     "name": "#%% md\n"
    }
   },
   "source": [
    "## 1. Introduction\n",
    "\n",
    "*Aerosol Robotic Network (AERONET)* is a ground-based aerosol network which can provide a long-term and readily accessible public domain database of aerosol optical. \n",
    "\n",
    "We retrieved AERONET data from Goddard Space Flight Center ([GSFC](https://aeronet.gsfc.nasa.gov)) from NASA. The time range of the dataset is October and November of the year 2019. In the spatial extent we specified, there are 37 AERONET stations. However, a lot of them have been discontinued to function, and some of the functioning stations do not provide up-to-date data for researchers to use. Therefore, as we filtered data with respect to their availability and their location, we selected the following 6 AERONET stations for our AOD groud measurement. "
   ]
  },
  {
   "cell_type": "code",
   "execution_count": 14,
   "metadata": {
    "pycharm": {
     "is_executing": false,
     "name": "#%% \n"
    }
   },
   "outputs": [
    {
     "data": {
      "text/html": [
       "<div>\n",
       "<style scoped>\n",
       "    .dataframe tbody tr th:only-of-type {\n",
       "        vertical-align: middle;\n",
       "    }\n",
       "\n",
       "    .dataframe tbody tr th {\n",
       "        vertical-align: top;\n",
       "    }\n",
       "\n",
       "    .dataframe thead th {\n",
       "        text-align: right;\n",
       "    }\n",
       "</style>\n",
       "<table border=\"1\" class=\"dataframe\">\n",
       "  <thead>\n",
       "    <tr style=\"text-align: right;\">\n",
       "      <th></th>\n",
       "      <th>Station Name</th>\n",
       "      <th>level</th>\n",
       "      <th>lon</th>\n",
       "      <th>lat</th>\n",
       "      <th>elevation</th>\n",
       "      <th>website</th>\n",
       "    </tr>\n",
       "  </thead>\n",
       "  <tbody>\n",
       "    <tr>\n",
       "      <th>0</th>\n",
       "      <td>UCSB</td>\n",
       "      <td>1.5</td>\n",
       "      <td>-119.84536</td>\n",
       "      <td>34.41543</td>\n",
       "      <td>33.0</td>\n",
       "      <td>https://aeronet.gsfc.nasa.gov/cgi-bin/data_di...</td>\n",
       "    </tr>\n",
       "    <tr>\n",
       "      <th>1</th>\n",
       "      <td>Mount_Wilson</td>\n",
       "      <td>1.5</td>\n",
       "      <td>-118.05590</td>\n",
       "      <td>34.22470</td>\n",
       "      <td>1710.0</td>\n",
       "      <td>https://aeronet.gsfc.nasa.gov/cgi-bin/data_di...</td>\n",
       "    </tr>\n",
       "    <tr>\n",
       "      <th>2</th>\n",
       "      <td>Santa_Monica_Colg</td>\n",
       "      <td>1.5</td>\n",
       "      <td>-118.47113</td>\n",
       "      <td>34.01685</td>\n",
       "      <td>55.0</td>\n",
       "      <td>https://aeronet.gsfc.nasa.gov/cgi-bin/data_di...</td>\n",
       "    </tr>\n",
       "    <tr>\n",
       "      <th>3</th>\n",
       "      <td>CalTech</td>\n",
       "      <td>2.0</td>\n",
       "      <td>-118.12617</td>\n",
       "      <td>34.13673</td>\n",
       "      <td>260.0</td>\n",
       "      <td>https://aeronet.gsfc.nasa.gov/cgi-bin/data_di...</td>\n",
       "    </tr>\n",
       "    <tr>\n",
       "      <th>4</th>\n",
       "      <td>La_Jolla</td>\n",
       "      <td>1.5</td>\n",
       "      <td>-117.25113</td>\n",
       "      <td>32.86846</td>\n",
       "      <td>80.0</td>\n",
       "      <td>https://aeronet.gsfc.nasa.gov/cgi-bin/data_di...</td>\n",
       "    </tr>\n",
       "    <tr>\n",
       "      <th>5</th>\n",
       "      <td>TABLE_MOUNTAIN_CA</td>\n",
       "      <td>1.5</td>\n",
       "      <td>-117.68000</td>\n",
       "      <td>34.38000</td>\n",
       "      <td>2200.0</td>\n",
       "      <td>https://aeronet.gsfc.nasa.gov/cgi-bin/data_di...</td>\n",
       "    </tr>\n",
       "  </tbody>\n",
       "</table>\n",
       "</div>"
      ],
      "text/plain": [
       "        Station Name   level        lon       lat   elevation  \\\n",
       "0               UCSB     1.5 -119.84536  34.41543        33.0   \n",
       "1       Mount_Wilson     1.5 -118.05590  34.22470      1710.0   \n",
       "2  Santa_Monica_Colg     1.5 -118.47113  34.01685        55.0   \n",
       "3            CalTech     2.0 -118.12617  34.13673       260.0   \n",
       "4           La_Jolla     1.5 -117.25113  32.86846        80.0   \n",
       "5  TABLE_MOUNTAIN_CA     1.5 -117.68000  34.38000      2200.0   \n",
       "\n",
       "                                             website  \n",
       "0   https://aeronet.gsfc.nasa.gov/cgi-bin/data_di...  \n",
       "1   https://aeronet.gsfc.nasa.gov/cgi-bin/data_di...  \n",
       "2   https://aeronet.gsfc.nasa.gov/cgi-bin/data_di...  \n",
       "3   https://aeronet.gsfc.nasa.gov/cgi-bin/data_di...  \n",
       "4   https://aeronet.gsfc.nasa.gov/cgi-bin/data_di...  \n",
       "5   https://aeronet.gsfc.nasa.gov/cgi-bin/data_di...  "
      ]
     },
     "execution_count": 14,
     "metadata": {},
     "output_type": "execute_result"
    }
   ],
   "source": [
    "AERONET_sites = pd.read_csv('AERONET_Sites.csv')\n",
    "AERONET_sites"
   ]
  },
  {
   "cell_type": "markdown",
   "metadata": {
    "pycharm": {
     "name": "#%% md\n"
    }
   },
   "source": [
    "## 2. Data preprocessing in Microsoft Excel\n",
    "\n",
    "We gathered raw dataset from the GSFC, and then we use Microsoft Excel to convert the dataset in a form that's convenient to process. We extracted the nearest AERONET observations that are within 30 min around the MODIS local overpass time. We have to note that the timestamps in the AERONET data are based on the GMT Time. \n",
    "\n",
    "Since the AERONET AOD measurement do not include the 550 nm channel which our SARA algorithm is based, we need to interpolate the AOD at 550 nm with the Ångstro€m Exponent a440\u0005675 nm and AOD at 440 nm and 675 nm channels provided in the AERONET data sets. Ångstro€m Exponent (Ångstro€m, 1964) is used to describe the dependency of the aerosol optical thickness, or aerosol extinction coefficient on wavelength. According to Liu et al., the AOD 550 nm could be interpolated as: \n",
    "\n",
    "$\n",
    "\\tau_{550} = \\tau_{675} * (\\frac{550}{675})^{-\\alpha_{440-675nm}}\n",
    "$"
   ]
  },
  {
   "cell_type": "markdown",
   "metadata": {},
   "source": [
    "https://deepblue.gsfc.nasa.gov/science"
   ]
  },
  {
   "cell_type": "code",
   "execution_count": 15,
   "metadata": {
    "pycharm": {
     "is_executing": false,
     "name": "#%% \n"
    }
   },
   "outputs": [],
   "source": [
    "AERONET_CalTech = pd.read_excel('AERONET DATA.xlsx', 'CalTech')\n",
    "AERONET_CalTech\n",
    "\n",
    "# Rayleigh Optical Depth\n",
    "tau_R = 0.09847234720729856"
   ]
  },
  {
   "cell_type": "code",
   "execution_count": 16,
   "metadata": {
    "pycharm": {
     "is_executing": false,
     "name": "#%%\n"
    }
   },
   "outputs": [
    {
     "name": "stdout",
     "output_type": "stream",
     "text": [
      "Pandas(Index=0, _1='UCSB', _2=1.5, _3=-119.84536000000001, _4=34.41543, _5=33.0, _6=' https://aeronet.gsfc.nasa.gov/cgi-bin/data_display_aod_v3?site=UCSB')\n",
      "Pandas(Index=1, _1='Mount_Wilson', _2=1.5, _3=-118.0559, _4=34.2247, _5=1710.0, _6=' https://aeronet.gsfc.nasa.gov/cgi-bin/data_display_aod_v3?site=Mount_Wilson')\n",
      "Pandas(Index=2, _1='Santa_Monica_Colg', _2=1.5, _3=-118.47113, _4=34.01685, _5=55.0, _6=' https://aeronet.gsfc.nasa.gov/cgi-bin/data_display_aod_v3?site=Santa_Monica_Colg')\n",
      "Pandas(Index=3, _1='CalTech', _2=2.0, _3=-118.12617, _4=34.13673, _5=260.0, _6=' https://aeronet.gsfc.nasa.gov/cgi-bin/data_display_aod_v3?site=CalTech')\n",
      "Pandas(Index=4, _1='La_Jolla', _2=1.5, _3=-117.25113, _4=32.86846, _5=80.0, _6=' https://aeronet.gsfc.nasa.gov/cgi-bin/data_display_aod_v3?site=La_Jolla')\n",
      "Pandas(Index=5, _1='TABLE_MOUNTAIN_CA', _2=1.5, _3=-117.68, _4=34.38, _5=2200.0, _6=' https://aeronet.gsfc.nasa.gov/cgi-bin/data_display_aod_v3?site=TABLE_MOUNTAIN_CA')\n"
     ]
    },
    {
     "data": {
      "text/html": [
       "<div>\n",
       "<style scoped>\n",
       "    .dataframe tbody tr th:only-of-type {\n",
       "        vertical-align: middle;\n",
       "    }\n",
       "\n",
       "    .dataframe tbody tr th {\n",
       "        vertical-align: top;\n",
       "    }\n",
       "\n",
       "    .dataframe thead th {\n",
       "        text-align: right;\n",
       "    }\n",
       "</style>\n",
       "<table border=\"1\" class=\"dataframe\">\n",
       "  <thead>\n",
       "    <tr style=\"text-align: right;\">\n",
       "      <th></th>\n",
       "      <th>Station Name</th>\n",
       "      <th>level</th>\n",
       "      <th>lon</th>\n",
       "      <th>lat</th>\n",
       "      <th>elevation</th>\n",
       "      <th>website</th>\n",
       "      <th>pixel</th>\n",
       "      <th>line</th>\n",
       "    </tr>\n",
       "  </thead>\n",
       "  <tbody>\n",
       "    <tr>\n",
       "      <th>0</th>\n",
       "      <td>UCSB</td>\n",
       "      <td>1.5</td>\n",
       "      <td>-119.84536</td>\n",
       "      <td>34.41543</td>\n",
       "      <td>33.0</td>\n",
       "      <td>https://aeronet.gsfc.nasa.gov/cgi-bin/data_di...</td>\n",
       "      <td>257</td>\n",
       "      <td>130</td>\n",
       "    </tr>\n",
       "    <tr>\n",
       "      <th>1</th>\n",
       "      <td>Mount_Wilson</td>\n",
       "      <td>1.5</td>\n",
       "      <td>-118.05590</td>\n",
       "      <td>34.22470</td>\n",
       "      <td>1710.0</td>\n",
       "      <td>https://aeronet.gsfc.nasa.gov/cgi-bin/data_di...</td>\n",
       "      <td>655</td>\n",
       "      <td>172</td>\n",
       "    </tr>\n",
       "    <tr>\n",
       "      <th>2</th>\n",
       "      <td>Santa_Monica_Colg</td>\n",
       "      <td>1.5</td>\n",
       "      <td>-118.47113</td>\n",
       "      <td>34.01685</td>\n",
       "      <td>55.0</td>\n",
       "      <td>https://aeronet.gsfc.nasa.gov/cgi-bin/data_di...</td>\n",
       "      <td>563</td>\n",
       "      <td>218</td>\n",
       "    </tr>\n",
       "    <tr>\n",
       "      <th>3</th>\n",
       "      <td>CalTech</td>\n",
       "      <td>2.0</td>\n",
       "      <td>-118.12617</td>\n",
       "      <td>34.13673</td>\n",
       "      <td>260.0</td>\n",
       "      <td>https://aeronet.gsfc.nasa.gov/cgi-bin/data_di...</td>\n",
       "      <td>640</td>\n",
       "      <td>192</td>\n",
       "    </tr>\n",
       "    <tr>\n",
       "      <th>4</th>\n",
       "      <td>La_Jolla</td>\n",
       "      <td>1.5</td>\n",
       "      <td>-117.25113</td>\n",
       "      <td>32.86846</td>\n",
       "      <td>80.0</td>\n",
       "      <td>https://aeronet.gsfc.nasa.gov/cgi-bin/data_di...</td>\n",
       "      <td>834</td>\n",
       "      <td>474</td>\n",
       "    </tr>\n",
       "    <tr>\n",
       "      <th>5</th>\n",
       "      <td>TABLE_MOUNTAIN_CA</td>\n",
       "      <td>1.5</td>\n",
       "      <td>-117.68000</td>\n",
       "      <td>34.38000</td>\n",
       "      <td>2200.0</td>\n",
       "      <td>https://aeronet.gsfc.nasa.gov/cgi-bin/data_di...</td>\n",
       "      <td>739</td>\n",
       "      <td>138</td>\n",
       "    </tr>\n",
       "  </tbody>\n",
       "</table>\n",
       "</div>"
      ],
      "text/plain": [
       "        Station Name   level        lon       lat   elevation  \\\n",
       "0               UCSB     1.5 -119.84536  34.41543        33.0   \n",
       "1       Mount_Wilson     1.5 -118.05590  34.22470      1710.0   \n",
       "2  Santa_Monica_Colg     1.5 -118.47113  34.01685        55.0   \n",
       "3            CalTech     2.0 -118.12617  34.13673       260.0   \n",
       "4           La_Jolla     1.5 -117.25113  32.86846        80.0   \n",
       "5  TABLE_MOUNTAIN_CA     1.5 -117.68000  34.38000      2200.0   \n",
       "\n",
       "                                             website  pixel  line  \n",
       "0   https://aeronet.gsfc.nasa.gov/cgi-bin/data_di...    257   130  \n",
       "1   https://aeronet.gsfc.nasa.gov/cgi-bin/data_di...    655   172  \n",
       "2   https://aeronet.gsfc.nasa.gov/cgi-bin/data_di...    563   218  \n",
       "3   https://aeronet.gsfc.nasa.gov/cgi-bin/data_di...    640   192  \n",
       "4   https://aeronet.gsfc.nasa.gov/cgi-bin/data_di...    834   474  \n",
       "5   https://aeronet.gsfc.nasa.gov/cgi-bin/data_di...    739   138  "
      ]
     },
     "execution_count": 16,
     "metadata": {},
     "output_type": "execute_result"
    }
   ],
   "source": [
    "pixels = []\n",
    "lines = []\n",
    "observations = []\n",
    "for row in AERONET_sites.itertuples():\n",
    "    print(row)\n",
    "    lon = row._4\n",
    "    lat = row._3\n",
    "    pixel, line = rd2.world2Pixel(lat, lon)\n",
    "    pixels.append(pixel)\n",
    "    lines.append(line)\n",
    "    observations.append({\n",
    "        'name' : row._1,\n",
    "        'data' : pd.read_excel('AERONET DATA.xlsx', row._1)\n",
    "    })\n",
    "    \n",
    "AERONET_sites['pixel'] = pd.Series(pixels, AERONET_sites.index)\n",
    "AERONET_sites['line'] = pd.Series(lines, AERONET_sites.index)\n",
    "AERONET_sites"
   ]
  },
  {
   "cell_type": "code",
   "execution_count": 17,
   "metadata": {
    "pycharm": {
     "is_executing": false,
     "name": "#%%\n"
    }
   },
   "outputs": [],
   "source": [
    "import readData2 as rd2\n",
    "for dofy in range(298, 310):\n",
    "    myd03 = rd2.read_myd03(dofy)\n",
    "    sensorZenith = myd03['SensorZenith'].ReadAsArray()\n",
    "    solarZenith = myd03['SolarZenith'].ReadAsArray()\n",
    "    µ_s = np.cos(rd2.to_radian(solarZenith))\n",
    "    µ_v = np.cos(rd2.to_radian(sensorZenith))\n",
    "    rd2.matrix_to_geo_tiff('MYD03/µ_s_{:03d}.tif'.format(dofy), µ_s)\n",
    "    rd2.matrix_to_geo_tiff('MYD03/µ_v_{:03d}.tif'.format(dofy), µ_v)\n"
   ]
  },
  {
   "cell_type": "markdown",
   "metadata": {
    "pycharm": {
     "name": "#%% md\n"
    }
   },
   "source": [
    "## 3. Using Fixed Point Iteration Methods to retrieve the coefficients\n",
    "\n",
    "The value of AOD is determined with the following equation:\n",
    "\n",
    "$\n",
    "\\tau_{\\alpha} = \\frac{4\\mu_s\\mu_v}{\\omega_0P_\\alpha}[\\rho_{TOA}-\\rho_{Ray}-\\frac{e^{-(\\tau_R+\\tau_\\alpha)/\\mu_s}e^{(\\tau_R+\\tau_\\alpha)/\\mu_v}\\rho_s}{1-\\rho_s(0.92\\tau_R+(1-g)\\tau_\\alpha)e^{-(\\tau_R+\\tau_\\alpha)}}]\n",
    "$\n",
    "\n",
    "However, the single scattering albedo $\\omega_0$ and the relative dominance of forward/back scattering $g$ remains unknown in this equation. Empirically we adopt the fixed point iteration (FPI) methods to solve these two terms for the day. We will iteratively varing the value of $\\omega$ and $g$ until the match is obtained. \n",
    "\n",
    "\n"
   ]
  },
  {
   "cell_type": "code",
   "execution_count": 18,
   "metadata": {
    "pycharm": {
     "is_executing": false,
     "name": "#%%\n"
    }
   },
   "outputs": [],
   "source": [
    "def collecting_data_for_equation(dofy):\n",
    "    day_values = []\n",
    "    for site in AERONET_sites.itertuples():\n",
    "        aeronet_ob = observations[site.Index]['data']\n",
    "        aeronet_ob = aeronet_ob.loc[aeronet_ob['Day_of_Year'] == dofy]\n",
    "        if len(aeronet_ob.AERONET_Site_Name.values) == 0:\n",
    "            continue\n",
    "        aeronet_ob = aeronet_ob.AOD550.values[0]\n",
    "        pixel = site[7]\n",
    "        line = site[8]\n",
    "        TOA = gdal.Open('MYD02/TOA_{:03d}.tif'.format(dofy)).ReadAsArray()[line, pixel]\n",
    "        Ray = gdal.Open('Rayleigh_Reflectance/2019{:03d}.tif'.format(dofy)).ReadAsArray()[line, pixel]\n",
    "        SurRef = gdal.Open('MYD09_Project/A2019{:03d}_Project_Clipped.tif'.format(dofy)).ReadAsArray()[line, pixel]\n",
    "        if TOA > 1 or Ray > 1 or SurRef > 1:\n",
    "            continue\n",
    "        cos_so_ze = gdal.Open('MYD03/µ_s_{:03d}.tif'.format(dofy)).ReadAsArray()[line, pixel]\n",
    "        cos_se_ze = gdal.Open('MYD03/µ_v_{:03d}.tif'.format(dofy)).ReadAsArray()[line, pixel]\n",
    "        P_a = gdal.Open('Rayleigh_Reflectance/P_a_2019{:03d}.tif'.format(dofy)).ReadAsArray()[line, pixel]\n",
    "        # Rayleigh_Ref = gdal.Open('Rayleigh_Reflectance/2019{:03d}.tif'.format(dofy)).ReadAsArray()[line, pixel]\n",
    "        day_values.append({\n",
    "            'aod' : aeronet_ob,\n",
    "            'TOA' : TOA,\n",
    "            'SurRef' : SurRef,\n",
    "            'µ_s': cos_so_ze,\n",
    "            'µ_v': cos_se_ze,\n",
    "            'P_a': P_a,\n",
    "            'Ray': Ray\n",
    "        })\n",
    "    return day_values\n",
    "    \n",
    "# collecting_data_for_equation(298)"
   ]
  },
  {
   "cell_type": "code",
   "execution_count": 33,
   "metadata": {
    "pycharm": {
     "is_executing": false,
     "name": "#%%\n"
    }
   },
   "outputs": [],
   "source": [
    "def compute_w_g(data):\n",
    "    if len(data)<=1:\n",
    "        return -1, -1, -1\n",
    "    residuals = np.zeros((101, 101), dtype=np.float64)\n",
    "    min_res = 1000000000\n",
    "    min_w = -1\n",
    "    min_g = -1\n",
    "    for i100 in range(0, 101): # w\n",
    "        i = i100/10\n",
    "        for j100 in range(0,101): # g\n",
    "            j = j100/100\n",
    "            residual = 0\n",
    "            for d in data:\n",
    "                numerator = math.pow(math.e, (-(d['aod'] + tau_R)/d['µ_s'])) * math.pow(math.e, (-(d['aod'] + tau_R)/d['µ_v'])) * d['SurRef']\n",
    "                denominator = 1 - d['SurRef'] * (0.92 * tau_R + (1 - j) * d['aod']) * math.pow(math.e, -(tau_R + d['aod']))\n",
    "                right = d['TOA'] - d['Ray'] -  numerator / denominator ######\n",
    "                right = right * 4 * d['µ_s'] * d['µ_v'] / (i * d['P_a'])\n",
    "                # print(numerator, denominator, right)\n",
    "                # if right < 0:\n",
    "                #     residual = residual + 10000\n",
    "                # residual = residual + (right - d['aod']) * (right - d['aod'])\n",
    "                residual = residual + abs(right - d['aod'])# * (right - d['aod'])\n",
    "            #     if residual > min_res:\n",
    "            #         break\n",
    "            if residual < min_res:\n",
    "                min_res = residual\n",
    "                min_w = i\n",
    "                min_g = j\n",
    "            residuals[i100-30, j100] = residual/len(data)\n",
    "    min_ids = np.argmin(residuals)\n",
    "    min_res = np.min(residuals)\n",
    "    # print(residuals)\n",
    "    # plt.imshow(residuals)\n",
    "    # plt.colorbar()\n",
    "    return min_w, min_g, min_res\n",
    "        "
   ]
  },
  {
   "cell_type": "code",
   "execution_count": 34,
   "metadata": {
    "pycharm": {
     "is_executing": false,
     "name": "#%%\n"
    }
   },
   "outputs": [
    {
     "name": "stderr",
     "output_type": "stream",
     "text": [
      "/Users/weiye/.conda/envs/New37/lib/python3.7/site-packages/ipykernel_launcher.py:17: RuntimeWarning: divide by zero encountered in double_scalars\n"
     ]
    },
    {
     "name": "stdout",
     "output_type": "stream",
     "text": [
      "7.0 0.0 0.03269399597646888\n"
     ]
    }
   ],
   "source": [
    "data298 = collecting_data_for_equation(299)\n",
    "min_w, min_g, min_res = compute_w_g(data298)\n",
    "print(min_w, min_g, min_res)\n"
   ]
  },
  {
   "cell_type": "code",
   "execution_count": 35,
   "metadata": {
    "pycharm": {
     "is_executing": false,
     "name": "#%%\n"
    }
   },
   "outputs": [
    {
     "name": "stderr",
     "output_type": "stream",
     "text": [
      "/Users/weiye/.conda/envs/New37/lib/python3.7/site-packages/ipykernel_launcher.py:17: RuntimeWarning: divide by zero encountered in double_scalars\n"
     ]
    },
    {
     "name": "stdout",
     "output_type": "stream",
     "text": [
      "5.9 0.0 0.012456706775048084\n",
      "7.0 0.0 0.03269399597646888\n",
      "5.9 0.0 0.026595417087420057\n",
      "3.5 0.0 0.03496741295548025\n",
      "2.9 1.0 0.024710152194914854\n",
      "3.3 1.0 0.018268921824927183\n",
      "7.3 0.0 0.009649682137050936\n",
      "6.1 0.0 0.03546187182274462\n",
      "6.3 0.0 0.0236666531240196\n",
      "3.7 1.0 0.01709218894250439\n",
      "4.0 1.0 0.025059047561356372\n",
      "4.1 0.57 0.01165387107673345\n"
     ]
    }
   ],
   "source": [
    "dataset = []\n",
    "w = []\n",
    "g = []\n",
    "for dofy in range(298,310):  \n",
    "    dataset.append(collecting_data_for_equation(dofy))\n",
    "    min_w, min_g, min_res = compute_w_g(dataset[dofy-298])\n",
    "    print(min_w, min_g, min_res)\n",
    "    w.append(min_w)\n",
    "    g.append(min_g)\n",
    "    \n",
    "\n"
   ]
  },
  {
   "cell_type": "code",
   "execution_count": 37,
   "metadata": {
    "pycharm": {
     "is_executing": false,
     "name": "#%%\n"
    }
   },
   "outputs": [
    {
     "name": "stdout",
     "output_type": "stream",
     "text": [
      "0.060949276102022706 0.04056082469371286\n"
     ]
    }
   ],
   "source": [
    "d = data298[1]\n",
    "i = min_w\n",
    "j = min_g\n",
    "numerator = math.pow(math.e, (-(d['aod'] + tau_R)/d['µ_s'])) * math.pow(math.e, (-(d['aod'] + tau_R)/d['µ_v'])) * d['SurRef']\n",
    "denominator = 1 - d['SurRef'] * (0.92 * tau_R + (1 - j) * d['aod']) * math.pow(math.e, -(tau_R + d['aod']))\n",
    "right = d['TOA'] - d['Ray'] - numerator / denominator\n",
    "right = right * 4 * d['µ_s'] * d['µ_v'] / (i * d['P_a'])\n",
    "\n",
    "print(right, d['aod'])\n",
    "# print(d['TOA'] - d['Ray'])"
   ]
  },
  {
   "cell_type": "markdown",
   "metadata": {
    "pycharm": {
     "name": "#%% md\n"
    }
   },
   "source": [
    "## 4. Validate"
   ]
  },
  {
   "cell_type": "code",
   "execution_count": 38,
   "metadata": {
    "pycharm": {
     "is_executing": false,
     "name": "#%%\n"
    }
   },
   "outputs": [],
   "source": [
    "def calculate_right(dofy):\n",
    "    data = dataset[dofy - 298]\n",
    "    for d in data:\n",
    "        i = min_w\n",
    "        j = min_g\n",
    "        numerator = math.pow(math.e, (-(d['aod'] + tau_R)/d['µ_s'])) * math.pow(math.e, (-(d['aod'] + tau_R)/d['µ_v'])) * d['SurRef']\n",
    "        denominator = 1 - d['SurRef'] * (0.92 * tau_R + (1 - j) * d['aod']) * math.pow(math.e, -(tau_R + d['aod']))\n",
    "        right = 2*d['TOA'] - d['Ray'] - 0.2* numerator / denominator\n",
    "        right = right * 4 * d['µ_s'] * d['µ_v'] / (i * d['P_a'])\n",
    "        \n",
    "        return right, d['aod']"
   ]
  },
  {
   "cell_type": "markdown",
   "metadata": {
    "pycharm": {
     "name": "#%% md\n"
    }
   },
   "source": [
    "Save the result to numpy array file."
   ]
  },
  {
   "cell_type": "code",
   "execution_count": 24,
   "metadata": {
    "pycharm": {
     "is_executing": false,
     "name": "#%%\n"
    }
   },
   "outputs": [],
   "source": [
    "np.save('para_g.npy', g)\n",
    "np.save('para_omega.npy', w)\n"
   ]
  },
  {
   "cell_type": "code",
   "execution_count": 24,
   "metadata": {
    "pycharm": {
     "is_executing": false,
     "name": "#%%\n"
    }
   },
   "outputs": [],
   "source": [
    "\n"
   ]
  }
 ],
 "metadata": {
  "kernelspec": {
   "display_name": "Python 3",
   "language": "python",
   "name": "python3"
  },
  "language_info": {
   "codemirror_mode": {
    "name": "ipython",
    "version": 3
   },
   "file_extension": ".py",
   "mimetype": "text/x-python",
   "name": "python",
   "nbconvert_exporter": "python",
   "pygments_lexer": "ipython3",
   "version": "3.7.5"
  },
  "pycharm": {
   "stem_cell": {
    "cell_type": "raw",
    "metadata": {
     "collapsed": false
    },
    "source": []
   }
  }
 },
 "nbformat": 4,
 "nbformat_minor": 1
}