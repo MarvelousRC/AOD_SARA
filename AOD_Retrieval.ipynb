{
 "cells": [
  {
   "cell_type": "markdown",
   "source": [
    "# Retrieving AOD based on SARA Algorithm - Final Run\n",
    "\n",
    "\n",
    "AOD could be derived from the following function. \n",
    "$\n",
    "\\tau_{\\alpha} = \\frac{4\\mu_s\\mu_v}{\\omega_0P_\\alpha}[\\rho_{TOA}-\\rho_{Ray}-\\frac{e^{-(\\tau_R+\\tau_\\alpha)/\\mu_s}e^{(\\tau_R+\\tau_\\alpha)/\\mu_v}\\rho_s}{1-\\rho_s(0.92\\tau_R+(1-g)\\tau_\\alpha)e^{-(\\tau_R+\\tau_\\alpha)}}]\n",
    "$\n",
    "\n",
    "Now that we have $\\omega$ and $g$ calculated, the only unknown variable in this function is the AOD value, which is what we are looking for.\n",
    "\n",
    "## 0. Set up environment\n",
    "\n",
    "#### 0.1 Importing necessary python libraries and functions"
   ],
   "metadata": {
    "collapsed": false,
    "pycharm": {
     "name": "#%% md\n"
    }
   }
  },
  {
   "cell_type": "code",
   "execution_count": 2,
   "metadata": {
    "collapsed": true,
    "pycharm": {
     "is_executing": false
    }
   },
   "outputs": [],
   "source": [
    "import numpy as np\n",
    "import readData2 as rd2\n",
    "import matplotlib.pyplot as plt\n",
    "import math"
   ]
  },
  {
   "cell_type": "markdown",
   "source": [
    "#### 0.2 Restore the parameter omega and g from numpy file"
   ],
   "metadata": {
    "collapsed": false,
    "pycharm": {
     "name": "#%% md\n"
    }
   }
  },
  {
   "cell_type": "code",
   "execution_count": 3,
   "outputs": [],
   "source": [
    "omega = np.load(\"para_omega.npy\")\n",
    "g = np.load(\"para_g.npy\")\n",
    "\n",
    "# Rayleigh Optical Depth\n",
    "tau_R = 0.09847234720729856"
   ],
   "metadata": {
    "collapsed": false,
    "pycharm": {
     "name": "#%% \n",
     "is_executing": false
    }
   }
  },
  {
   "cell_type": "markdown",
   "source": [
    "## 1. AOD Retrieval"
   ],
   "metadata": {
    "collapsed": false,
    "pycharm": {
     "name": "#%% md\n"
    }
   }
  },
  {
   "cell_type": "code",
   "execution_count": 9,
   "outputs": [],
   "source": [
    "def retrieve_aod(dofy):\n",
    "    mu_s = rd2.load(rd2.read_mu_s(dofy))\n",
    "    mu_v = rd2.load(rd2.read_mu_v(dofy))\n",
    "    P_a = rd2.load(rd2.read_P_a(dofy))\n",
    "    toa = rd2.load(rd2.read_myd02(dofy))\n",
    "    ray = rd2.load(rd2.read_ray(dofy))\n",
    "    sur = rd2.load(rd2.read_myd09(dofy))\n",
    "    g_ = g[dofy - 298]\n",
    "    omega_ = omega[dofy - 298]\n",
    "    rows, cols = np.shape(toa)\n",
    "    \n",
    "    \n",
    "    def calculate_right(aod, i, j):\n",
    "        numerator = math.pow(math.e, -(tau_R + aod)/mu_s[i, j]) * math.pow(math.e, -(tau_R + aod)/mu_v[i, j]) * sur[i, j]\n",
    "        denominator = 1 - sur[i, j] * (0.92 * tau_R + (1 - g_) * aod) * math.pow(math.e, -(tau_R + aod))\n",
    "        right = 2 * toa[i, j] - ray[i, j] - 0.2 * numerator / denominator\n",
    "        right = 4 * mu_s[i, j] * mu_v[i, j] / (omega_ * P_a[i, j]) * right\n",
    "        return right\n",
    "        \n",
    "    \n",
    "    aod_mat = np.zeros((rows, cols))\n",
    "    aod_num_list = np.linspace(0.0, 0.3, 61)\n",
    "    for i in range(0, rows):\n",
    "        if (i%100 == 0):\n",
    "            print(\"Now we are working on the row {} of the day {}...\".format(i, dofy))\n",
    "        for j in range(0, cols):\n",
    "            if sur[i, j] <= 0:\n",
    "                aod_mat[i, j] = -100\n",
    "                continue\n",
    "            min_error = 10000000\n",
    "            best_aod = -100\n",
    "            for aod in aod_num_list:\n",
    "                right = calculate_right(aod, i, j)\n",
    "                error = math.fabs(right - aod)\n",
    "                if error < min_error:\n",
    "                    min_error = error\n",
    "                    best_aod = aod\n",
    "            aod_mat[i, j] = best_aod\n",
    "    \n",
    "    rd2.matrix_to_geo_tiff(\"AOD/AOD_2019_{:03d}.tif\".format(dofy), aod_mat)\n",
    "    return aod_mat\n"
   ],
   "metadata": {
    "collapsed": false,
    "pycharm": {
     "name": "#%%\n",
     "is_executing": false
    }
   }
  },
  {
   "cell_type": "code",
   "execution_count": 10,
   "outputs": [],
   "source": [
    "def retrieve_batch():\n",
    "    aod_list = []\n",
    "    for i in range(298, 310):\n",
    "        print()\n",
    "        print(\"**** Start working on the day {}... ****\".format(i))\n",
    "        print()\n",
    "        aod_list.append(retrieve_aod(i))\n",
    "    return aod_list"
   ],
   "metadata": {
    "collapsed": false,
    "pycharm": {
     "name": "#%%\n",
     "is_executing": false
    }
   }
  },
  {
   "cell_type": "code",
   "execution_count": null,
   "outputs": [
    {
     "name": "stdout",
     "text": [
      "\n**** Start working on the day 298... ****\n\nNow we are working on the row 0 of the day 298...\n",
      "Now we are working on the row 100 of the day 298...\n",
      "Now we are working on the row 200 of the day 298...\n",
      "Now we are working on the row 300 of the day 298...\n",
      "Now we are working on the row 400 of the day 298...\n",
      "Now we are working on the row 500 of the day 298...\n",
      "Now we are working on the row 600 of the day 298...\n",
      "\n**** Start working on the day 299... ****\n\nNow we are working on the row 0 of the day 299...\n",
      "Now we are working on the row 100 of the day 299...\n",
      "Now we are working on the row 200 of the day 299...\n",
      "Now we are working on the row 300 of the day 299...\n",
      "Now we are working on the row 400 of the day 299...\n"
     ],
     "output_type": "stream"
    }
   ],
   "source": [
    "aod_list = retrieve_batch()"
   ],
   "metadata": {
    "collapsed": false,
    "pycharm": {
     "name": "#%%\n",
     "is_executing": true
    }
   }
  },
  {
   "cell_type": "code",
   "execution_count": null,
   "outputs": [],
   "source": [
    "fig, ax = plt.subplots(4,3)\n",
    "for "
   ],
   "metadata": {
    "collapsed": false,
    "pycharm": {
     "name": "#%%\n"
    }
   }
  }
 ],
 "metadata": {
  "kernelspec": {
   "display_name": "Python 3",
   "language": "python",
   "name": "python3"
  },
  "language_info": {
   "codemirror_mode": {
    "name": "ipython",
    "version": 2
   },
   "file_extension": ".py",
   "mimetype": "text/x-python",
   "name": "python",
   "nbconvert_exporter": "python",
   "pygments_lexer": "ipython2",
   "version": "2.7.6"
  },
  "pycharm": {
   "stem_cell": {
    "cell_type": "raw",
    "source": [],
    "metadata": {
     "collapsed": false
    }
   }
  }
 },
 "nbformat": 4,
 "nbformat_minor": 0
}