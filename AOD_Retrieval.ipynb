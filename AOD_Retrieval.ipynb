{
 "cells": [
  {
   "cell_type": "markdown",
   "metadata": {},
   "outputs": [],
   "source": [
    "#### WEIYE CHEN\n",
    "MS Student in Geography\n",
    "\n",
    "Department of Geography and Geographic Information Science\n",
    "\n",
    "University of Illinois at Urbana-Champaign\n",
    "\n",
    "Urbana IL, USA\n",
    "\n",
    "BS in Geographic Information Science, Zhejiang University, Hangzhou, China"
   ]
  },
  {
   "cell_type": "markdown",
   "metadata": {
    "pycharm": {
     "name": "#%% md\n"
    }
   },
   "outputs": [],
   "source": [
    "# Retrieving AOD based on SARA Algorithm - Final Run\n",
    "\n",
    "\n",
    "AOD could be derived from the following function. \n",
    "$\n",
    "\\tau_{\\alpha} = \\frac{4\\mu_s\\mu_v}{\\omega_0P_\\alpha}[\\rho_{TOA}-\\rho_{Ray}-\\frac{e^{-(\\tau_R+\\tau_\\alpha)/\\mu_s}e^{(\\tau_R+\\tau_\\alpha)/\\mu_v}\\rho_s}{1-\\rho_s(0.92\\tau_R+(1-g)\\tau_\\alpha)e^{-(\\tau_R+\\tau_\\alpha)}}]\n",
    "$\n",
    "\n",
    "Now that we have $\\omega$ and $g$ calculated, the only unknown variable in this function is the AOD value, which is what we are looking for.\n",
    "\n",
    "## 0. Set up environment\n",
    "\n",
    "#### 0.1 Importing necessary python libraries and functions"
   ]
  },
  {
   "cell_type": "code",
   "metadata": {},
   "outputs": [],
   "source": [
    "import numpy as np\n",
    "import readData2 as rd2\n",
    "import matplotlib.pyplot as plt\n",
    "import math"
   ]
  },
  {
   "cell_type": "markdown",
   "metadata": {
    "pycharm": {
     "name": "#%% md\n"
    }
   },
   "outputs": [],
   "source": [
    "#### 0.2 Restore the parameter omega and g from numpy file"
   ]
  },
  {
   "cell_type": "code",
   "metadata": {
    "pycharm": {
     "is_executing": false,
     "name": "#%% \n"
    }
   },
   "outputs": [],
   "source": [
    "omega = np.load(\"para_omega.npy\")\n",
    "g = np.load(\"para_g.npy\")\n",
    "\n",
    "# Rayleigh Optical Depth\n",
    "tau_R = 0.09847234720729856"
   ]
  },
  {
   "cell_type": "markdown",
   "metadata": {
    "pycharm": {
     "name": "#%% md\n"
    }
   },
   "outputs": [],
   "source": [
    "## 1. AOD Retrieval"
   ]
  },
  {
   "cell_type": "code",
   "metadata": {
    "pycharm": {
     "is_executing": false,
     "name": "#%%\n"
    }
   },
   "outputs": [],
   "source": [
    "def retrieve_aod(dofy):\n",
    "    mu_s = rd2.load(rd2.read_mu_s(dofy))\n",
    "    mu_v = rd2.load(rd2.read_mu_v(dofy))\n",
    "    P_a = rd2.load(rd2.read_P_a(dofy))\n",
    "    toa = rd2.load(rd2.read_myd02(dofy))\n",
    "    ray = rd2.load(rd2.read_ray(dofy))\n",
    "    sur = rd2.load(rd2.read_myd09(dofy))\n",
    "    g_ = g[dofy - 298]\n",
    "    omega_ = omega[dofy - 298]\n",
    "    rows, cols = np.shape(toa)\n",
    "    \n",
    "    \n",
    "    def calculate_right(aod, i, j):\n",
    "        numerator = math.pow(math.e, -(tau_R + aod)/mu_s[i, j]) * math.pow(math.e, -(tau_R + aod)/mu_v[i, j]) * sur[i, j]\n",
    "        denominator = 1 - sur[i, j] * (0.92 * tau_R + (1 - g_) * aod) * math.pow(math.e, -(tau_R + aod))\n",
    "        right = 2 * toa[i, j] - ray[i, j] - 0.2 * numerator / denominator\n",
    "        right = 4 * mu_s[i, j] * mu_v[i, j] / (omega_ * P_a[i, j]) * right\n",
    "        return right\n",
    "        \n",
    "    \n",
    "    aod_mat = np.zeros((rows, cols))\n",
    "    aod_num_list = np.linspace(0.0, 0.3, 61)\n",
    "    for i in range(0, rows):\n",
    "        if (i%100 == 0):\n",
    "            print(\"Now we are working on the row {} of the day {}...\".format(i, dofy))\n",
    "        for j in range(0, cols):\n",
    "            if sur[i, j] <= 0:\n",
    "                aod_mat[i, j] = -100\n",
    "                continue\n",
    "            min_error = 10000000\n",
    "            best_aod = -100\n",
    "            for aod in aod_num_list:\n",
    "                right = calculate_right(aod, i, j)\n",
    "                error = math.fabs(right - aod)\n",
    "                if error < min_error:\n",
    "                    min_error = error\n",
    "                    best_aod = aod\n",
    "            aod_mat[i, j] = best_aod\n",
    "    \n",
    "    rd2.matrix_to_geo_tiff(\"AOD/AOD_2019_{:03d}.tif\".format(dofy), aod_mat)\n",
    "    return aod_mat\n"
   ]
  },
  {
   "cell_type": "code",
   "metadata": {
    "pycharm": {
     "is_executing": false,
     "name": "#%%\n"
    }
   },
   "outputs": [],
   "source": [
    "def retrieve_batch():\n",
    "    aod_list = []\n",
    "    for i in range(298, 310):\n",
    "        print()\n",
    "        print(\"**** Start working on the day {}... ****\".format(i))\n",
    "        print()\n",
    "        aod_list.append(retrieve_aod(i))\n",
    "    return aod_list"
   ]
  },
  {
   "cell_type": "code",
   "metadata": {},
   "outputs": [],
   "source": [
    "aod_list = retrieve_batch()\n",
    "## Error Solved in `AOD_Retrieval.py`"
   ]
  },
  {
   "cell_type": "code",
   "metadata": {},
   "outputs": [],
   "source": [
    "fig, ax = plt.subplots(4,3, figsize=(16,9))\n",
    "for i in range (298, 310):\n",
    "    aod = rd2.load(rd2.read_aod(i))\n",
    "    aod = np.ma.masked_where(aod < 0, aod)\n",
    "    i = i - 298\n",
    "    ax[int(i/3),int(i%3)].imshow(aod)\n",
    "    ax[int(i/3),int(i%3)].set_title(\"SARA AOD {:03d}, 2019\".format(i+298))\n",
    "plt.tight_layout()"
   ]
  },
  {
   "cell_type": "code",
   "metadata": {},
   "outputs": [],
   "source": [
    "import readData as rd"
   ]
  },
  {
   "cell_type": "code",
   "metadata": {},
   "outputs": [],
   "source": [
    "i = 308\n",
    "aod = rd2.load(rd2.read_aod(i)).ravel()\n",
    "positives = aod > 0.2\n",
    "print(aod[aod>0].mean())\n",
    "# rd.show_histogram(aod, 'Histogram of SARA AOD on day {}'.format(i), True)"
   ]
  },
  {
   "cell_type": "code",
   "metadata": {},
   "outputs": [],
   "source": []
  }
 ],
 "metadata": {
  "kernelspec": {
   "display_name": "Python 3",
   "language": "python",
   "name": "python3"
  },
  "language_info": {
   "codemirror_mode": {
    "name": "ipython",
    "version": 3
   },
   "file_extension": ".py",
   "mimetype": "text/x-python",
   "name": "python",
   "nbconvert_exporter": "python",
   "pygments_lexer": "ipython3",
   "version": "3.7.5"
  },
  "pycharm": {
   "stem_cell": {
    "cell_type": "raw",
    "metadata": {
     "collapsed": false
    },
    "source": []
   }
  }
 },
 "nbformat": 4,
 "nbformat_minor": 1
}