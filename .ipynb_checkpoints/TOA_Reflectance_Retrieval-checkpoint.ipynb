{
 "cells": [
  {
   "cell_type": "markdown",
   "metadata": {},
   "source": [
    "# Retrieval of the TOA Reflectance from the MYD02HKM data\n",
    "\n",
    "The SARA is based on the satellite received spectral reflectance (ρλ), which is a func- tion of measured spectral radiance (LTOA(λ)), solar zenith angle, earth–sun distance in astronomical unit and mean solar exoatmospheric radiation (Eq. 1):\n",
    "\n",
    "$\\rho_{TOA(\\lambda)} = \\frac{\\pi L_{TOA(\\lambda)}d^2}{ESUN_{\\lambda}\\mu_s}$\n",
    "\n",
    "where $\\rho_{TOA(\\lambda)}$ = satellite received TOA spectral reflectance, $L_{TOA(\\lambda)}$ = satellite received TOA spectral radiance, $ESUN_{\\lambda}$ = mean solar exoatmospheric radiation radiation as a function of MODIS band number. For MODIS band 4, the $ESUN_{\\lambda}$ value is 1850 (*Tasumi et al., 2008*). $μ_s$ = cosine of solar zenith angle.\n",
    "\n",
    "Parameter $d^2$ can be calculated as a function of day of year using Duffie and Beckman 􏰀1991􏰁 (Eq. 2):\n",
    "\n",
    "$d^2 = \\frac{1}{1+0.033 \\cos(DOY\\cdot 2\\pi /365)}$\n",
    "\n",
    "where $DOY$ = day of year and 􏰀$DOY·2􏰘/365􏰁$ 􏰀(rad􏰁)\n"
   ]
  },
  {
   "cell_type": "code",
   "execution_count": 2,
   "metadata": {},
   "outputs": [],
   "source": [
    "%matplotlib inline\n",
    "import readData as rd\n",
    "import math\n",
    "import numpy as np\n",
    "import matplotlib.pyplot as plt\n",
    "# import pandas as pd"
   ]
  },
  {
   "cell_type": "markdown",
   "metadata": {},
   "source": [
    "## Load Data"
   ]
  },
  {
   "cell_type": "code",
   "execution_count": 3,
   "metadata": {},
   "outputs": [
    {
     "name": "stdout",
     "output_type": "stream",
     "text": [
      "MYD02HKM/MYD02HKM.A2019309.2205.061.2019310152617.pssgrpgs_000501393049.EV_500_RefSB_2-EV_500_RefSB.tif\n",
      "MYD02HKM/MYD02HKM.A2019298.2045.061.2019299151631.pssgrpgs_000501393049.EV_500_RefSB_2-EV_500_RefSB.tif\n",
      "MYD02HKM/MYD02HKM.A2019299.2130.061.2019300153603.pssgrpgs_000501393049.EV_500_RefSB_2-EV_500_RefSB.tif\n",
      "MYD02HKM/MYD02HKM.A2019299.2125.061.2019300153403.pssgrpgs_000501393049.EV_500_RefSB_2-EV_500_RefSB.tif\n",
      "MYD02HKM/MYD02HKM.A2019308.1945.061.2019309152133.pssgrpgs_000501393049.EV_500_RefSB_2-EV_500_RefSB.tif\n",
      "MYD02HKM/MYD02HKM.A2019302.2020.061.2019303155337.pssgrpgs_000501393049.EV_500_RefSB_2-EV_500_RefSB.tif\n",
      "MYD02HKM/MYD02HKM.A2019300.2035.061.2019301152322.pssgrpgs_000501393049.EV_500_RefSB_2-EV_500_RefSB.tif\n",
      "MYD02HKM/MYD02HKM.A2019306.1955.061.2019307150634.pssgrpgs_000501393049.EV_500_RefSB_2-EV_500_RefSB.tif\n",
      "MYD02HKM/MYD02HKM.A2019306.2135.061.2019307150842.pssgrpgs_000501393049.EV_500_RefSB_2-EV_500_RefSB.tif\n",
      "MYD02HKM/MYD02HKM.A2019304.2010.061.2019305151339.pssgrpgs_000501393049.EV_500_RefSB_2-EV_500_RefSB.tif\n",
      "MYD02HKM/MYD02HKM.A2019305.2050.061.2019306151402.pssgrpgs_000501393049.EV_500_RefSB_2-EV_500_RefSB.tif\n",
      "MYD02HKM/MYD02HKM.A2019304.2145.061.2019305151204.pssgrpgs_000501393049.EV_500_RefSB_2-EV_500_RefSB.tif\n",
      "MYD02HKM/MYD02HKM.A2019307.2040.061.2019308152443.pssgrpgs_000501393049.EV_500_RefSB_2-EV_500_RefSB.tif\n",
      "MYD02HKM/MYD02HKM.A2019300.2210.061.2019301152019.pssgrpgs_000501393049.EV_500_RefSB_2-EV_500_RefSB.tif\n",
      "MYD02HKM/MYD02HKM.A2019302.2200.061.2019303153950.pssgrpgs_000501393049.EV_500_RefSB_2-EV_500_RefSB.tif\n",
      "MYD02HKM/MYD02HKM.A2019303.2100.061.2019304153859.pssgrpgs_000501393049.EV_500_RefSB_2-EV_500_RefSB.tif\n",
      "MYD02HKM/MYD02HKM.A2019303.2105.061.2019304153027.pssgrpgs_000501393049.EV_500_RefSB_2-EV_500_RefSB.tif\n",
      "MYD02HKM/MYD02HKM.A2019304.2005.061.2019305151126.pssgrpgs_000501393049.EV_500_RefSB_2-EV_500_RefSB.tif\n",
      "MYD02HKM/MYD02HKM.A2019308.2120.061.2019309152037.pssgrpgs_000501393049.EV_500_RefSB_2-EV_500_RefSB.tif\n",
      "MYD02HKM/MYD02HKM.A2019299.1950.061.2019300153532.pssgrpgs_000501393049.EV_500_RefSB_2-EV_500_RefSB.tif\n",
      "MYD02HKM/MYD02HKM.A2019309.2025.061.2019310152027.pssgrpgs_000501393049.EV_500_RefSB_2-EV_500_RefSB.tif\n",
      "MYD02HKM/MYD02HKM.A2019300.2030.061.2019301152343.pssgrpgs_000501393049.EV_500_RefSB_2-EV_500_RefSB.tif\n",
      "MYD02HKM/MYD02HKM.A2019307.2035.061.2019308152337.pssgrpgs_000501393049.EV_500_RefSB_2-EV_500_RefSB.tif\n",
      "MYD02HKM/MYD02HKM.A2019301.2115.061.2019302151923.pssgrpgs_000501393049.EV_500_RefSB_2-EV_500_RefSB.tif\n",
      "MYD02HKM_hdf/MYD02HKM.A2019299.2130.061.2019300153603.psgscs_000501391352.hdf\n",
      "MYD02HKM_hdf/MYD02HKM.A2019302.2020.061.2019303155337.psgscs_000501391352.hdf\n",
      "MYD02HKM_hdf/MYD02HKM.A2019306.2135.061.2019307150842.psgscs_000501391352.hdf\n",
      "MYD02HKM_hdf/MYD02HKM.A2019300.2030.061.2019301152343.psgscs_000501391352.hdf\n",
      "MYD02HKM_hdf/MYD02HKM.A2019301.2115.061.2019302151923.psgscs_000501391352.hdf\n",
      "MYD02HKM_hdf/MYD02HKM.A2019309.2025.061.2019310152027.psgscs_000501391352.hdf\n",
      "MYD02HKM_hdf/MYD02HKM.A2019302.2200.061.2019303153950.psgscs_000501391352.hdf\n",
      "MYD02HKM_hdf/MYD02HKM.A2019303.2105.061.2019304153027.psgscs_000501391352.hdf\n",
      "MYD02HKM_hdf/MYD02HKM.A2019298.2045.061.2019299151631.psgscs_000501391352.hdf\n",
      "MYD02HKM_hdf/MYD02HKM.A2019307.2040.061.2019308152443.psgscs_000501391352.hdf\n",
      "MYD02HKM_hdf/MYD02HKM.A2019304.2145.061.2019305151204.psgscs_000501391352.hdf\n",
      "MYD02HKM_hdf/MYD02HKM.A2019304.2010.061.2019305151339.psgscs_000501391352.hdf\n",
      "MYD02HKM_hdf/MYD02HKM.A2019299.2125.061.2019300153403.psgscs_000501391352.hdf\n",
      "MYD02HKM_hdf/MYD02HKM.A2019303.2100.061.2019304153859.psgscs_000501391352.hdf\n",
      "MYD02HKM_hdf/MYD02HKM.A2019305.2050.061.2019306151402.psgscs_000501391352.hdf\n",
      "MYD02HKM_hdf/MYD02HKM.A2019308.2120.061.2019309152037.psgscs_000501391352.hdf\n",
      "MYD02HKM_hdf/MYD02HKM.A2019300.2035.061.2019301152322.psgscs_000501391352.hdf\n",
      "MYD02HKM_hdf/MYD02HKM.A2019298.2045.061.2019299151631.hdf\n"
     ]
    },
    {
     "ename": "KeyError",
     "evalue": "'min'",
     "output_type": "error",
     "traceback": [
      "\u001b[0;31m---------------------------------------------------------------------------\u001b[0m",
      "\u001b[0;31mKeyError\u001b[0m                                  Traceback (most recent call last)",
      "\u001b[0;32m<ipython-input-3-1b4f6dd55774>\u001b[0m in \u001b[0;36m<module>\u001b[0;34m\u001b[0m\n\u001b[1;32m      8\u001b[0m \u001b[0mMYD02HKM\u001b[0m \u001b[0;34m=\u001b[0m \u001b[0mrd\u001b[0m\u001b[0;34m.\u001b[0m\u001b[0mread_MYD02\u001b[0m\u001b[0;34m(\u001b[0m\u001b[0;36m4\u001b[0m\u001b[0;34m)\u001b[0m\u001b[0;34m\u001b[0m\u001b[0;34m\u001b[0m\u001b[0m\n\u001b[1;32m      9\u001b[0m \u001b[0mMYD02HKM_para\u001b[0m \u001b[0;34m=\u001b[0m \u001b[0mrd\u001b[0m\u001b[0;34m.\u001b[0m\u001b[0mread_parameters_from_MYD02_HDF\u001b[0m\u001b[0;34m(\u001b[0m\u001b[0;34m)\u001b[0m\u001b[0;34m\u001b[0m\u001b[0;34m\u001b[0m\u001b[0m\n\u001b[0;32m---> 10\u001b[0;31m \u001b[0mMYD02HKM\u001b[0m \u001b[0;34m=\u001b[0m \u001b[0mrd\u001b[0m\u001b[0;34m.\u001b[0m\u001b[0mpreprocess_MYD02\u001b[0m\u001b[0;34m(\u001b[0m\u001b[0mMYD02HKM\u001b[0m\u001b[0;34m,\u001b[0m \u001b[0mMYD02HKM_para\u001b[0m\u001b[0;34m)\u001b[0m\u001b[0;34m\u001b[0m\u001b[0;34m\u001b[0m\u001b[0m\n\u001b[0m",
      "\u001b[0;32m~/Codings/2019/AOD_SARA/readData.py\u001b[0m in \u001b[0;36mpreprocess_MYD02\u001b[0;34m(tif_array_dict, para_array_dict)\u001b[0m\n\u001b[1;32m    162\u001b[0m             \u001b[0mj\u001b[0m \u001b[0;34m+=\u001b[0m \u001b[0;36m1\u001b[0m\u001b[0;34m\u001b[0m\u001b[0;34m\u001b[0m\u001b[0m\n\u001b[1;32m    163\u001b[0m             \u001b[0;32mcontinue\u001b[0m\u001b[0;34m\u001b[0m\u001b[0;34m\u001b[0m\u001b[0m\n\u001b[0;32m--> 164\u001b[0;31m         \u001b[0;32mif\u001b[0m \u001b[0;34m(\u001b[0m\u001b[0mtif_array_dict\u001b[0m\u001b[0;34m[\u001b[0m\u001b[0mi\u001b[0m\u001b[0;34m]\u001b[0m\u001b[0;34m[\u001b[0m\u001b[0;34m'min'\u001b[0m\u001b[0;34m]\u001b[0m \u001b[0;34m<\u001b[0m \u001b[0mpara_array_dict\u001b[0m\u001b[0;34m[\u001b[0m\u001b[0mj\u001b[0m\u001b[0;34m]\u001b[0m\u001b[0;34m[\u001b[0m\u001b[0;34m'min'\u001b[0m\u001b[0;34m]\u001b[0m\u001b[0;34m)\u001b[0m\u001b[0;34m:\u001b[0m\u001b[0;34m\u001b[0m\u001b[0;34m\u001b[0m\u001b[0m\n\u001b[0m\u001b[1;32m    165\u001b[0m             \u001b[0mi\u001b[0m \u001b[0;34m+=\u001b[0m \u001b[0;36m1\u001b[0m\u001b[0;34m\u001b[0m\u001b[0;34m\u001b[0m\u001b[0m\n\u001b[1;32m    166\u001b[0m             \u001b[0;32mcontinue\u001b[0m\u001b[0;34m\u001b[0m\u001b[0;34m\u001b[0m\u001b[0m\n",
      "\u001b[0;31mKeyError\u001b[0m: 'min'"
     ]
    }
   ],
   "source": [
    "# MYD02HKM = rd.read_data3('MYD02HKM')\n",
    "# MYD03 = rd.read_data('MYD03')\n",
    "# MYD02_E_LUTs = rd.read_data('MYD02_Emissive_LUTs', LUT_mode=True)\n",
    "# MYD02_R_LUTs = rd.read_data('MYD02_Reflective_LUTs', LUT_mode=True)\n",
    "# MYD02_Q_LUTs = rd.read_data('MYD02_QA_LUTs', LUT_mode=True)\n",
    "# MYD09GA = rd.read_data('MYD09GA')\n",
    "\n",
    "MYD02HKM = rd.read_MYD02(4)\n",
    "MYD02HKM_para = rd.read_parameters_from_MYD02_HDF()\n",
    "MYD02HKM = rd.preprocess_MYD02(MYD02HKM, MYD02HKM_para)\n"
   ]
  },
  {
   "cell_type": "code",
   "execution_count": null,
   "metadata": {
    "pycharm": {
     "is_executing": false,
     "name": "#%%\n"
    }
   },
   "outputs": [],
   "source": [
    "# print('--- MYD02 Reflective LUTs ---')\n",
    "# for item in MYD02_R_LUTs[0]['dataset_list']:\n",
    "#     print(item[1])"
   ]
  },
  {
   "cell_type": "markdown",
   "metadata": {
    "pycharm": {
     "name": "#%% md\n"
    }
   },
   "source": [
    "According to the LUT provided by the MODIS Characterization Support Team (MCST), the data in scaled integer bands should be converted. \n",
    "\n",
    "For MODIS band 4, the values of the DN are scaled from \\[0, 4095\\] to \\[0, 32767]. In this regard, we need to covert the data back to its correct values. "
   ]
  },
  {
   "cell_type": "code",
   "execution_count": null,
   "metadata": {
    "pycharm": {
     "is_executing": false,
     "name": "#%%\n"
    }
   },
   "outputs": [],
   "source": [
    "data02 = MYD02HKM[0]['data']\n",
    "lon = MYD02HKM[0]['lon']\n",
    "lat = MYD02HKM[0]['lat']\n",
    "year = MYD02HKM[0]['year']\n",
    "dofy = MYD02HKM[0]['dofy']\n",
    "hour = MYD02HKM[0]['hour']\n",
    "minute = MYD02HKM[0]['minute']\n",
    "\n",
    "data03meta = rd.search_data(MYD03, year, dofy, hour, minute)\n",
    "sensorZenith = rd.openSubDataset(data03meta[0]['dataset_list'], 3)\n",
    "sensorZenith = rd.resample_integral_multiple(sensorZenith, 2)\n",
    "sensorAzimuth = rd.openSubDataset(data03meta[0]['dataset_list'], 4)\n",
    "sensorAzimuth = rd.resample_integral_multiple(sensorAzimuth, 2)\n",
    "solarZenith = rd.openSubDataset(data03meta[0]['dataset_list'], 6)\n",
    "solarZenith = rd.resample_integral_multiple(solarZenith, 2)\n",
    "solarAzimuth = rd.openSubDataset(data03meta[0]['dataset_list'], 7)\n",
    "solarAzimuth = rd.resample_integral_multiple(solarAzimuth, 2)\n",
    "\n",
    "# Convert the angles to radians.\n",
    "sensorZenith = rd.to_radian(sensorZenith)\n",
    "sensorAzimuth = rd.to_radian(sensorAzimuth)\n",
    "solarZenith = rd.to_radian(solarZenith)\n",
    "solarAzimuth = rd.to_radian(solarAzimuth)\n"
   ]
  },
  {
   "cell_type": "code",
   "execution_count": null,
   "metadata": {
    "pycharm": {
     "is_executing": false,
     "name": "#%% \n"
    }
   },
   "outputs": [],
   "source": [
    "# lat = rd.openSubDataset(MYD02HKM[0]['dataset_list'], 2)\n",
    "# lon = rd.openSubDataset(MYD02HKM[0]['dataset_list'], 3)\n",
    "\n",
    "plt.imshow(lon)\n",
    "plt.colorbar()"
   ]
  },
  {
   "cell_type": "markdown",
   "metadata": {
    "pycharm": {
     "name": "#%% md \n"
    }
   },
   "source": [
    "## Data Exploration"
   ]
  },
  {
   "cell_type": "code",
   "execution_count": null,
   "metadata": {
    "pycharm": {
     "is_executing": false,
     "name": "#%%\n"
    }
   },
   "outputs": [],
   "source": [
    "plt.imshow(data02)\n",
    "plt.colorbar()"
   ]
  },
  {
   "cell_type": "code",
   "execution_count": null,
   "metadata": {
    "pycharm": {
     "is_executing": false,
     "name": "#%%\n"
    }
   },
   "outputs": [],
   "source": [
    "rd.show_histogram(data02)"
   ]
  },
  {
   "cell_type": "code",
   "execution_count": null,
   "metadata": {
    "pycharm": {
     "is_executing": false,
     "name": "#%% \n"
    }
   },
   "outputs": [],
   "source": [
    "rd.show_descriptives(data02)"
   ]
  },
  {
   "cell_type": "code",
   "execution_count": null,
   "metadata": {
    "pycharm": {
     "is_executing": false,
     "name": "#%%\n"
    }
   },
   "outputs": [],
   "source": [
    "d2 = 2 * math.pi * dofy / 365\n",
    "d2 = 0.033 * math.cos(d2) + 1\n",
    "d2 = 1 / d2\n",
    "print(\"d^2 = \", d2)\n",
    "ESUN = 1850\n",
    "print('ESUN = ', ESUN)\n",
    "# µ_v = pd.DataFrame(np.cos(solarZenith.values / 180 * math.pi / 100))\n",
    "µ_s = np.cos(solarZenith)\n",
    "µ_v = np.cos(sensorZenith)"
   ]
  },
  {
   "cell_type": "code",
   "execution_count": null,
   "metadata": {
    "pycharm": {
     "is_executing": false,
     "name": "#%%\n"
    }
   },
   "outputs": [],
   "source": [
    "rho_TOA = math.pi * data02 * d2 / (ESUN * µ_s)\n",
    "rd.show_histogram(rho_TOA)\n",
    "rd.show_descriptives(rho_TOA)"
   ]
  },
  {
   "cell_type": "code",
   "execution_count": null,
   "metadata": {
    "pycharm": {
     "is_executing": false,
     "name": "#%%\n"
    }
   },
   "outputs": [],
   "source": [
    "plt.imshow(rho_TOA)\n",
    "plt.colorbar()"
   ]
  },
  {
   "cell_type": "markdown",
   "metadata": {
    "pycharm": {
     "name": "#%% md\n"
    }
   },
   "source": [
    "# Rayleigh Reflectance\n",
    "\n",
    "### **Calculating the scattering Angle**\n",
    "\n",
    "According to [Levy et. al](https://doi.org/10.1029/2006JD007811), the scattering angle could be calculated from the following function:\n",
    "\n",
    "$\\Theta = \\cos^{-1} (-\\cos \\theta_0\\cos\\theta + \\sin \\theta_0 \\sin \\theta \\cos \\phi)$\n",
    "\n",
    "where $θ_0$, $θ$, and $ϕ$ are the **solar zenith**, **sensor view zenith**, and **relative azimuth angles**, respectively. \n",
    "Relative azimuth could be computed by using this function:\n",
    "\n",
    "$\\phi = sensor_{az} - solar_{az} - 180$\n",
    "http://oceancolor.gsfc.nasa.gov/forum/oceancolor/topic_show.pl?pid=12697;hl=scattering%20angle#pid12697\n",
    "\n",
    "The Rayleigh reflectance could be calculated from the following equation:\n",
    "> Bilal, M.; Nazeer, M.; Nichol, J.E.; Bleiweiss, M.P.; Qiu, Z.; Jäkel, E.; Campbell, J.R.; Atique, L.; Huang, X.; Lolli, S. A Simplified and Robust Surface Reflectance Estimation Method (SREM) for Use over Diverse Land Surfaces Using Multi-Sensor Data. Remote Sens. 2019, 11, 1344.\n",
    "\n",
    "$\\rho_R = P_R \\cdot \\frac{1 - e^{-M\\tau_r}}{4(\\mu_s + \\mu_v)}$\n",
    "\n",
    "where M = air mass = $\\frac1{\\mu_s}+ \\frac1{\\mu_v}$, \n",
    "\n",
    "$\\tau_r$ = Rayleigh optical depth = $0.008569\\lambda^{-4}(1 + 0.0113\\lambda^{-2} + 0.0013\\lambda^{-4})$, $\\lambda$ is in radian; \n",
    "\n",
    "$P_R$ is the Rayleigh phase function = $\\frac{3A}{4+B}(1 + \\cos^2\\Theta)$;\n",
    "\n",
    "A and B are coefficients that account for the molecular asymmetry: $A = 0.9587256,\\ B = 1−A$\n",
    "\n"
   ]
  },
  {
   "cell_type": "code",
   "execution_count": null,
   "metadata": {
    "pycharm": {
     "is_executing": false,
     "name": "#%% \n"
    }
   },
   "outputs": [],
   "source": [
    "phi = sensorZenith - solarAzimuth - math.pi\n",
    "cos_phi = np.cos(phi)\n",
    "cos_Theta = -np.cos(solarZenith) * np.cos(sensorZenith) + np.sin(solarZenith) * np.sin(sensorZenith) * cos_phi\n",
    "P_R = 3 * 0.9587256 / (5 - 0.9587256) * (1 + cos_Theta * cos_Theta)\n",
    "wavelen = 0.555\n",
    "tau_r = 0.008569 * math.pow(wavelen, -4) * (1 + 0.0113 * math.pow(wavelen, -2) + 0.0013 * math.pow(wavelen, -4))\n",
    "M = 1/µ_v + 1/µ_s\n",
    "rho_Ray = P_R * (1 - np.power(math.e, - M * tau_r)) / (4 * (µ_s + µ_v))\n",
    "\n",
    "rd.show_descriptives(rho_Ray)\n",
    "rd.show_histogram(rho_Ray)"
   ]
  },
  {
   "cell_type": "code",
   "execution_count": null,
   "metadata": {
    "pycharm": {
     "is_executing": false,
     "name": "#%%\n"
    }
   },
   "outputs": [],
   "source": [
    "plt.imshow(rho_Ray)\n",
    "plt.colorbar()"
   ]
  },
  {
   "cell_type": "code",
   "execution_count": null,
   "metadata": {
    "pycharm": {
     "is_executing": false,
     "name": "#%%\n"
    }
   },
   "outputs": [],
   "source": [
    "GCPs = rd.generateGCPs(lat, lon)\n",
    "rd.matrix_to_geo_tiff('what.tif', rho_TOA, GCP=GCPs)\n"
   ]
  },
  {
   "cell_type": "code",
   "execution_count": null,
   "metadata": {
    "pycharm": {
     "is_executing": false,
     "name": "#%%\n"
    }
   },
   "outputs": [],
   "source": [
    "rd.show_histogram(rho_TOA - rho_Ray)\n"
   ]
  }
 ],
 "metadata": {
  "kernelspec": {
   "display_name": "Python 3",
   "language": "python",
   "name": "python3"
  },
  "language_info": {
   "codemirror_mode": {
    "name": "ipython",
    "version": 3
   },
   "file_extension": ".py",
   "mimetype": "text/x-python",
   "name": "python",
   "nbconvert_exporter": "python",
   "pygments_lexer": "ipython3",
   "version": "3.7.5"
  },
  "pycharm": {
   "stem_cell": {
    "cell_type": "raw",
    "metadata": {
     "collapsed": false
    },
    "source": []
   }
  }
 },
 "nbformat": 4,
 "nbformat_minor": 1
}
