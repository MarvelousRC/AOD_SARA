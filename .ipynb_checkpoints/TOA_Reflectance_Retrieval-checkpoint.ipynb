{
 "cells": [
  {
   "cell_type": "markdown",
   "metadata": {},
   "source": [
    "## Retrieval of the TOA Reflectance from the MYD02HKM data\n",
    "\n",
    "The SARA is based on the satellite received spectral reflectance (ρλ), which is a func- tion of measured spectral radiance (LTOA(λ)), solar zenith angle, earth– sun distance in astronomical unit and mean solar exoatmospheric radiation (Eq. 1):\n",
    "\n",
    "$\\rho_{TOA(\\lambda)} = \\frac{\\pi L_{TOA(\\lambda)}d^2}{ESUN_{\\lambda}\\mu_s}$\n",
    "\n",
    "where $\\rho_{TOA(\\lambda)}$ = satellite received TOA spectral reflectance, $L_{TOA(\\lambda)}$ = satellite received TOA spectral radiance, $ESUN_{\\lambda}$ = mean solar exoatmospheric radiation radiation as a function of MODIS band number. For MODIS band 4, the $ESUN_{\\lambda}$ value is 1850 (*Tasumi et al., 2008*). \n",
    "\n",
    "Parameter $d^2$ can be calculated as a function of day of year using Duffie and Beckman 􏰀1991􏰁 (Eq. 2):\n",
    "\n",
    "$d^2 = \\frac{1}{1+0.033 \\cos(DOY\\cdot 2\\pi /365)}$\n",
    "\n",
    "where $DOY$ = day of year and 􏰀$DOY·2􏰘/365􏰁$ 􏰀(rad􏰁)\n"
   ]
  },
  {
   "cell_type": "code",
   "execution_count": null,
   "metadata": {
    "collapsed": true,
    "pycharm": {
     "is_executing": true
    }
   },
   "outputs": [],
   "source": [
    "%matplotlib inline\n",
    "import readData as rd"
   ]
  },
  {
   "cell_type": "markdown",
   "metadata": {},
   "source": []
  },
  {
   "cell_type": "code",
   "execution_count": 2,
   "metadata": {
    "pycharm": {
     "is_executing": false,
     "name": "#%%\n"
    }
   },
   "outputs": [
    {
     "name": "stdout",
     "output_type": "stream",
     "text": [
      "MYD02HKM/MYD02HKM.A2019299.2130.061.2019300153603.psgscs_000501391352.hdf\n",
      "MYD02HKM/MYD02HKM.A2019302.2020.061.2019303155337.psgscs_000501391352.hdf\n",
      "MYD02HKM/MYD02HKM.A2019306.2135.061.2019307150842.psgscs_000501391352.hdf\n",
      "MYD02HKM/MYD02HKM.A2019300.2030.061.2019301152343.psgscs_000501391352.hdf\n",
      "MYD02HKM/MYD02HKM.A2019301.2115.061.2019302151923.psgscs_000501391352.hdf\n",
      "MYD02HKM/MYD02HKM.A2019309.2025.061.2019310152027.psgscs_000501391352.hdf\n",
      "MYD02HKM/MYD02HKM.A2019302.2200.061.2019303153950.psgscs_000501391352.hdf\n",
      "MYD02HKM/MYD02HKM.A2019303.2105.061.2019304153027.psgscs_000501391352.hdf\n",
      "MYD02HKM/MYD02HKM.A2019298.2045.061.2019299151631.psgscs_000501391352.hdf\n",
      "MYD02HKM/MYD02HKM.A2019307.2040.061.2019308152443.psgscs_000501391352.hdf\n",
      "MYD02HKM/MYD02HKM.A2019304.2145.061.2019305151204.psgscs_000501391352.hdf\n",
      "MYD02HKM/MYD02HKM.A2019304.2010.061.2019305151339.psgscs_000501391352.hdf\n",
      "MYD02HKM/MYD02HKM.A2019299.2125.061.2019300153403.psgscs_000501391352.hdf\n",
      "MYD02HKM/MYD02HKM.A2019303.2100.061.2019304153859.psgscs_000501391352.hdf\n",
      "MYD02HKM/MYD02HKM.A2019305.2050.061.2019306151402.psgscs_000501391352.hdf\n",
      "MYD02HKM/MYD02HKM.A2019308.2120.061.2019309152037.psgscs_000501391352.hdf\n",
      "MYD02HKM/MYD02HKM.A2019300.2035.061.2019301152322.psgscs_000501391352.hdf\n"
     ]
    }
   ],
   "source": [
    "MYD02HKM = rd.read_data('MYD02HKM')\n",
    "data = rd.openSubDataset(MYD02HKM[0]['dataset_list'], 4)\n"
   ]
  },
  {
   "cell_type": "markdown",
   "metadata": {
    "pycharm": {
     "name": "#%% md \n"
    }
   },
   "source": [
    "### Data Exploration"
   ]
  },
  {
   "cell_type": "code",
   "execution_count": 3,
   "metadata": {
    "pycharm": {
     "is_executing": false,
     "name": "#%%\n"
    }
   },
   "outputs": [
    {
     "name": "stderr",
     "output_type": "stream",
     "text": [
      "/Users/weiye/.conda/envs/New37/lib/python3.7/site-packages/matplotlib/figure.py:457: UserWarning: matplotlib is currently using a non-GUI backend, so cannot show the figure\n",
      "  \"matplotlib is currently using a non-GUI backend, \"\n"
     ]
    },
    {
     "data": {
      "image/png": "[encoded data removed]",
      "text/plain": [
       "<Figure size 720x720 with 1 Axes>"
      ]
     },
     "metadata": {
      "needs_background": "light"
     },
     "output_type": "display_data"
    }
   ],
   "source": [
    "rd.show_histogram(data)"
   ]
  },
  {
   "cell_type": "code",
   "execution_count": null,
   "metadata": {
    "pycharm": {
     "name": "#%% \n"
    }
   },
   "outputs": [],
   "source": [
    "rd.show_descriptives(data)"
   ]
  }
 ],
 "metadata": {
  "kernelspec": {
   "display_name": "Python 3",
   "language": "python",
   "name": "python3"
  },
  "language_info": {
   "codemirror_mode": {
    "name": "ipython",
    "version": 3
   },
   "file_extension": ".py",
   "mimetype": "text/x-python",
   "name": "python",
   "nbconvert_exporter": "python",
   "pygments_lexer": "ipython3",
   "version": "3.7.5"
  },
  "pycharm": {
   "stem_cell": {
    "cell_type": "raw",
    "metadata": {
     "collapsed": false
    },
    "source": []
   }
  }
 },
 "nbformat": 4,
 "nbformat_minor": 1
}
