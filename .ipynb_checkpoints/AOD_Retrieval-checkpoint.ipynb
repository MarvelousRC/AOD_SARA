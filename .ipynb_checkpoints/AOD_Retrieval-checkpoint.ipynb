{
 "cells": [
  {
   "cell_type": "markdown",
   "metadata": {
    "pycharm": {
     "name": "#%% md\n"
    }
   },
   "source": [
    "# Retrieving AOD based on SARA Algorithm - Final Run\n",
    "\n",
    "\n",
    "AOD could be derived from the following function. \n",
    "$\n",
    "\\tau_{\\alpha} = \\frac{4\\mu_s\\mu_v}{\\omega_0P_\\alpha}[\\rho_{TOA}-\\rho_{Ray}-\\frac{e^{-(\\tau_R+\\tau_\\alpha)/\\mu_s}e^{(\\tau_R+\\tau_\\alpha)/\\mu_v}\\rho_s}{1-\\rho_s(0.92\\tau_R+(1-g)\\tau_\\alpha)e^{-(\\tau_R+\\tau_\\alpha)}}]\n",
    "$\n",
    "\n",
    "Now that we have $\\omega$ and $g$ calculated, the only unknown variable in this function is the AOD value, which is what we are looking for.\n",
    "\n",
    "## 0. Set up environment\n",
    "\n",
    "#### 0.1 Importing necessary python libraries and functions"
   ]
  },
  {
   "cell_type": "code",
   "execution_count": 2,
   "metadata": {
    "collapsed": true,
    "pycharm": {
     "is_executing": false
    }
   },
   "outputs": [],
   "source": [
    "import numpy as np\n",
    "import readData2 as rd2\n",
    "import matplotlib.pyplot as plt\n",
    "import math"
   ]
  },
  {
   "cell_type": "markdown",
   "metadata": {
    "pycharm": {
     "name": "#%% md\n"
    }
   },
   "source": [
    "#### 0.2 Restore the parameter omega and g from numpy file"
   ]
  },
  {
   "cell_type": "code",
   "execution_count": 3,
   "metadata": {
    "pycharm": {
     "is_executing": false,
     "name": "#%% \n"
    }
   },
   "outputs": [],
   "source": [
    "omega = np.load(\"para_omega.npy\")\n",
    "g = np.load(\"para_g.npy\")\n",
    "\n",
    "# Rayleigh Optical Depth\n",
    "tau_R = 0.09847234720729856"
   ]
  },
  {
   "cell_type": "markdown",
   "metadata": {
    "pycharm": {
     "name": "#%% md\n"
    }
   },
   "source": [
    "## 1. AOD Retrieval"
   ]
  },
  {
   "cell_type": "code",
   "execution_count": 9,
   "metadata": {
    "pycharm": {
     "is_executing": false,
     "name": "#%%\n"
    }
   },
   "outputs": [],
   "source": [
    "def retrieve_aod(dofy):\n",
    "    mu_s = rd2.load(rd2.read_mu_s(dofy))\n",
    "    mu_v = rd2.load(rd2.read_mu_v(dofy))\n",
    "    P_a = rd2.load(rd2.read_P_a(dofy))\n",
    "    toa = rd2.load(rd2.read_myd02(dofy))\n",
    "    ray = rd2.load(rd2.read_ray(dofy))\n",
    "    sur = rd2.load(rd2.read_myd09(dofy))\n",
    "    g_ = g[dofy - 298]\n",
    "    omega_ = omega[dofy - 298]\n",
    "    rows, cols = np.shape(toa)\n",
    "    \n",
    "    \n",
    "    def calculate_right(aod, i, j):\n",
    "        numerator = math.pow(math.e, -(tau_R + aod)/mu_s[i, j]) * math.pow(math.e, -(tau_R + aod)/mu_v[i, j]) * sur[i, j]\n",
    "        denominator = 1 - sur[i, j] * (0.92 * tau_R + (1 - g_) * aod) * math.pow(math.e, -(tau_R + aod))\n",
    "        right = 2 * toa[i, j] - ray[i, j] - 0.2 * numerator / denominator\n",
    "        right = 4 * mu_s[i, j] * mu_v[i, j] / (omega_ * P_a[i, j]) * right\n",
    "        return right\n",
    "        \n",
    "    \n",
    "    aod_mat = np.zeros((rows, cols))\n",
    "    aod_num_list = np.linspace(0.0, 0.3, 61)\n",
    "    for i in range(0, rows):\n",
    "        if (i%100 == 0):\n",
    "            print(\"Now we are working on the row {} of the day {}...\".format(i, dofy))\n",
    "        for j in range(0, cols):\n",
    "            if sur[i, j] <= 0:\n",
    "                aod_mat[i, j] = -100\n",
    "                continue\n",
    "            min_error = 10000000\n",
    "            best_aod = -100\n",
    "            for aod in aod_num_list:\n",
    "                right = calculate_right(aod, i, j)\n",
    "                error = math.fabs(right - aod)\n",
    "                if error < min_error:\n",
    "                    min_error = error\n",
    "                    best_aod = aod\n",
    "            aod_mat[i, j] = best_aod\n",
    "    \n",
    "    rd2.matrix_to_geo_tiff(\"AOD/AOD_2019_{:03d}.tif\".format(dofy), aod_mat)\n",
    "    return aod_mat\n"
   ]
  },
  {
   "cell_type": "code",
   "execution_count": 10,
   "metadata": {
    "pycharm": {
     "is_executing": false,
     "name": "#%%\n"
    }
   },
   "outputs": [],
   "source": [
    "def retrieve_batch():\n",
    "    aod_list = []\n",
    "    for i in range(298, 310):\n",
    "        print()\n",
    "        print(\"**** Start working on the day {}... ****\".format(i))\n",
    "        print()\n",
    "        aod_list.append(retrieve_aod(i))\n",
    "    return aod_list"
   ]
  },
  {
   "cell_type": "code",
   "execution_count": 11,
   "metadata": {
    "pycharm": {
     "is_executing": false,
     "name": "#%%\n"
    }
   },
   "outputs": [
    {
     "name": "stdout",
     "output_type": "stream",
     "text": [
      "\n",
      "**** Start working on the day 298... ****\n",
      "\n",
      "Now we are working on the row 0 of the day 298...\n",
      "Now we are working on the row 100 of the day 298...\n",
      "Now we are working on the row 200 of the day 298...\n",
      "Now we are working on the row 300 of the day 298...\n",
      "Now we are working on the row 400 of the day 298...\n",
      "Now we are working on the row 500 of the day 298...\n",
      "Now we are working on the row 600 of the day 298...\n",
      "\n",
      "**** Start working on the day 299... ****\n",
      "\n",
      "Now we are working on the row 0 of the day 299...\n",
      "Now we are working on the row 100 of the day 299...\n",
      "Now we are working on the row 200 of the day 299...\n",
      "Now we are working on the row 300 of the day 299...\n",
      "Now we are working on the row 400 of the day 299...\n",
      "Now we are working on the row 500 of the day 299...\n",
      "Now we are working on the row 600 of the day 299...\n"
     ]
    },
    {
     "name": "stderr",
     "output_type": "stream",
     "text": [
      "/Users/weiye/.conda/envs/New37/lib/python3.7/site-packages/ipykernel_launcher.py:14: RuntimeWarning: divide by zero encountered in double_scalars\n",
      "  \n"
     ]
    },
    {
     "ename": "IndexError",
     "evalue": "index 666 is out of bounds for axis 0 with size 666",
     "output_type": "error",
     "traceback": [
      "\u001b[0;31m---------------------------------------------------------------------------\u001b[0m",
      "\u001b[0;31mIndexError\u001b[0m                                Traceback (most recent call last)",
      "\u001b[0;32m<ipython-input-11-2b29c0d13b54>\u001b[0m in \u001b[0;36m<module>\u001b[0;34m\u001b[0m\n\u001b[0;32m----> 1\u001b[0;31m \u001b[0maod_list\u001b[0m \u001b[0;34m=\u001b[0m \u001b[0mretrieve_batch\u001b[0m\u001b[0;34m(\u001b[0m\u001b[0;34m)\u001b[0m\u001b[0;34m\u001b[0m\u001b[0;34m\u001b[0m\u001b[0m\n\u001b[0m\u001b[1;32m      2\u001b[0m \u001b[0;34m\u001b[0m\u001b[0m\n",
      "\u001b[0;32m<ipython-input-10-b09d830ba5d9>\u001b[0m in \u001b[0;36mretrieve_batch\u001b[0;34m()\u001b[0m\n\u001b[1;32m      5\u001b[0m         \u001b[0mprint\u001b[0m\u001b[0;34m(\u001b[0m\u001b[0;34m\"**** Start working on the day {}... ****\"\u001b[0m\u001b[0;34m.\u001b[0m\u001b[0mformat\u001b[0m\u001b[0;34m(\u001b[0m\u001b[0mi\u001b[0m\u001b[0;34m)\u001b[0m\u001b[0;34m)\u001b[0m\u001b[0;34m\u001b[0m\u001b[0;34m\u001b[0m\u001b[0m\n\u001b[1;32m      6\u001b[0m         \u001b[0mprint\u001b[0m\u001b[0;34m(\u001b[0m\u001b[0;34m)\u001b[0m\u001b[0;34m\u001b[0m\u001b[0;34m\u001b[0m\u001b[0m\n\u001b[0;32m----> 7\u001b[0;31m         \u001b[0maod_list\u001b[0m\u001b[0;34m.\u001b[0m\u001b[0mappend\u001b[0m\u001b[0;34m(\u001b[0m\u001b[0mretrieve_aod\u001b[0m\u001b[0;34m(\u001b[0m\u001b[0mi\u001b[0m\u001b[0;34m)\u001b[0m\u001b[0;34m)\u001b[0m\u001b[0;34m\u001b[0m\u001b[0;34m\u001b[0m\u001b[0m\n\u001b[0m\u001b[1;32m      8\u001b[0m     \u001b[0;32mreturn\u001b[0m \u001b[0maod_list\u001b[0m\u001b[0;34m\u001b[0m\u001b[0;34m\u001b[0m\u001b[0m\n\u001b[1;32m      9\u001b[0m \u001b[0;34m\u001b[0m\u001b[0m\n",
      "\u001b[0;32m<ipython-input-9-e687e1ed4580>\u001b[0m in \u001b[0;36mretrieve_aod\u001b[0;34m(dofy)\u001b[0m\n\u001b[1;32m     31\u001b[0m             \u001b[0mbest_aod\u001b[0m \u001b[0;34m=\u001b[0m \u001b[0;34m-\u001b[0m\u001b[0;36m100\u001b[0m\u001b[0;34m\u001b[0m\u001b[0;34m\u001b[0m\u001b[0m\n\u001b[1;32m     32\u001b[0m             \u001b[0;32mfor\u001b[0m \u001b[0maod\u001b[0m \u001b[0;32min\u001b[0m \u001b[0maod_num_list\u001b[0m\u001b[0;34m:\u001b[0m\u001b[0;34m\u001b[0m\u001b[0;34m\u001b[0m\u001b[0m\n\u001b[0;32m---> 33\u001b[0;31m                 \u001b[0mright\u001b[0m \u001b[0;34m=\u001b[0m \u001b[0mcalculate_right\u001b[0m\u001b[0;34m(\u001b[0m\u001b[0maod\u001b[0m\u001b[0;34m,\u001b[0m \u001b[0mi\u001b[0m\u001b[0;34m,\u001b[0m \u001b[0mj\u001b[0m\u001b[0;34m)\u001b[0m\u001b[0;34m\u001b[0m\u001b[0;34m\u001b[0m\u001b[0m\n\u001b[0m\u001b[1;32m     34\u001b[0m                 \u001b[0merror\u001b[0m \u001b[0;34m=\u001b[0m \u001b[0mmath\u001b[0m\u001b[0;34m.\u001b[0m\u001b[0mfabs\u001b[0m\u001b[0;34m(\u001b[0m\u001b[0mright\u001b[0m \u001b[0;34m-\u001b[0m \u001b[0maod\u001b[0m\u001b[0;34m)\u001b[0m\u001b[0;34m\u001b[0m\u001b[0;34m\u001b[0m\u001b[0m\n\u001b[1;32m     35\u001b[0m                 \u001b[0;32mif\u001b[0m \u001b[0merror\u001b[0m \u001b[0;34m<\u001b[0m \u001b[0mmin_error\u001b[0m\u001b[0;34m:\u001b[0m\u001b[0;34m\u001b[0m\u001b[0;34m\u001b[0m\u001b[0m\n",
      "\u001b[0;32m<ipython-input-9-e687e1ed4580>\u001b[0m in \u001b[0;36mcalculate_right\u001b[0;34m(aod, i, j)\u001b[0m\n\u001b[1;32m     14\u001b[0m         \u001b[0mnumerator\u001b[0m \u001b[0;34m=\u001b[0m \u001b[0mmath\u001b[0m\u001b[0;34m.\u001b[0m\u001b[0mpow\u001b[0m\u001b[0;34m(\u001b[0m\u001b[0mmath\u001b[0m\u001b[0;34m.\u001b[0m\u001b[0me\u001b[0m\u001b[0;34m,\u001b[0m \u001b[0;34m-\u001b[0m\u001b[0;34m(\u001b[0m\u001b[0mtau_R\u001b[0m \u001b[0;34m+\u001b[0m \u001b[0maod\u001b[0m\u001b[0;34m)\u001b[0m\u001b[0;34m/\u001b[0m\u001b[0mmu_s\u001b[0m\u001b[0;34m[\u001b[0m\u001b[0mi\u001b[0m\u001b[0;34m,\u001b[0m \u001b[0mj\u001b[0m\u001b[0;34m]\u001b[0m\u001b[0;34m)\u001b[0m \u001b[0;34m*\u001b[0m \u001b[0mmath\u001b[0m\u001b[0;34m.\u001b[0m\u001b[0mpow\u001b[0m\u001b[0;34m(\u001b[0m\u001b[0mmath\u001b[0m\u001b[0;34m.\u001b[0m\u001b[0me\u001b[0m\u001b[0;34m,\u001b[0m \u001b[0;34m-\u001b[0m\u001b[0;34m(\u001b[0m\u001b[0mtau_R\u001b[0m \u001b[0;34m+\u001b[0m \u001b[0maod\u001b[0m\u001b[0;34m)\u001b[0m\u001b[0;34m/\u001b[0m\u001b[0mmu_v\u001b[0m\u001b[0;34m[\u001b[0m\u001b[0mi\u001b[0m\u001b[0;34m,\u001b[0m \u001b[0mj\u001b[0m\u001b[0;34m]\u001b[0m\u001b[0;34m)\u001b[0m \u001b[0;34m*\u001b[0m \u001b[0msur\u001b[0m\u001b[0;34m[\u001b[0m\u001b[0mi\u001b[0m\u001b[0;34m,\u001b[0m \u001b[0mj\u001b[0m\u001b[0;34m]\u001b[0m\u001b[0;34m\u001b[0m\u001b[0;34m\u001b[0m\u001b[0m\n\u001b[1;32m     15\u001b[0m         \u001b[0mdenominator\u001b[0m \u001b[0;34m=\u001b[0m \u001b[0;36m1\u001b[0m \u001b[0;34m-\u001b[0m \u001b[0msur\u001b[0m\u001b[0;34m[\u001b[0m\u001b[0mi\u001b[0m\u001b[0;34m,\u001b[0m \u001b[0mj\u001b[0m\u001b[0;34m]\u001b[0m \u001b[0;34m*\u001b[0m \u001b[0;34m(\u001b[0m\u001b[0;36m0.92\u001b[0m \u001b[0;34m*\u001b[0m \u001b[0mtau_R\u001b[0m \u001b[0;34m+\u001b[0m \u001b[0;34m(\u001b[0m\u001b[0;36m1\u001b[0m \u001b[0;34m-\u001b[0m \u001b[0mg_\u001b[0m\u001b[0;34m)\u001b[0m \u001b[0;34m*\u001b[0m \u001b[0maod\u001b[0m\u001b[0;34m)\u001b[0m \u001b[0;34m*\u001b[0m \u001b[0mmath\u001b[0m\u001b[0;34m.\u001b[0m\u001b[0mpow\u001b[0m\u001b[0;34m(\u001b[0m\u001b[0mmath\u001b[0m\u001b[0;34m.\u001b[0m\u001b[0me\u001b[0m\u001b[0;34m,\u001b[0m \u001b[0;34m-\u001b[0m\u001b[0;34m(\u001b[0m\u001b[0mtau_R\u001b[0m \u001b[0;34m+\u001b[0m \u001b[0maod\u001b[0m\u001b[0;34m)\u001b[0m\u001b[0;34m)\u001b[0m\u001b[0;34m\u001b[0m\u001b[0;34m\u001b[0m\u001b[0m\n\u001b[0;32m---> 16\u001b[0;31m         \u001b[0mright\u001b[0m \u001b[0;34m=\u001b[0m \u001b[0;36m2\u001b[0m \u001b[0;34m*\u001b[0m \u001b[0mtoa\u001b[0m\u001b[0;34m[\u001b[0m\u001b[0mi\u001b[0m\u001b[0;34m,\u001b[0m \u001b[0mj\u001b[0m\u001b[0;34m]\u001b[0m \u001b[0;34m-\u001b[0m \u001b[0mray\u001b[0m\u001b[0;34m[\u001b[0m\u001b[0mi\u001b[0m\u001b[0;34m,\u001b[0m \u001b[0mj\u001b[0m\u001b[0;34m]\u001b[0m \u001b[0;34m-\u001b[0m \u001b[0;36m0.2\u001b[0m \u001b[0;34m*\u001b[0m \u001b[0mnumerator\u001b[0m \u001b[0;34m/\u001b[0m \u001b[0mdenominator\u001b[0m\u001b[0;34m\u001b[0m\u001b[0;34m\u001b[0m\u001b[0m\n\u001b[0m\u001b[1;32m     17\u001b[0m         \u001b[0mright\u001b[0m \u001b[0;34m=\u001b[0m \u001b[0;36m4\u001b[0m \u001b[0;34m*\u001b[0m \u001b[0mmu_s\u001b[0m\u001b[0;34m[\u001b[0m\u001b[0mi\u001b[0m\u001b[0;34m,\u001b[0m \u001b[0mj\u001b[0m\u001b[0;34m]\u001b[0m \u001b[0;34m*\u001b[0m \u001b[0mmu_v\u001b[0m\u001b[0;34m[\u001b[0m\u001b[0mi\u001b[0m\u001b[0;34m,\u001b[0m \u001b[0mj\u001b[0m\u001b[0;34m]\u001b[0m \u001b[0;34m/\u001b[0m \u001b[0;34m(\u001b[0m\u001b[0momega_\u001b[0m \u001b[0;34m*\u001b[0m \u001b[0mP_a\u001b[0m\u001b[0;34m[\u001b[0m\u001b[0mi\u001b[0m\u001b[0;34m,\u001b[0m \u001b[0mj\u001b[0m\u001b[0;34m]\u001b[0m\u001b[0;34m)\u001b[0m \u001b[0;34m*\u001b[0m \u001b[0mright\u001b[0m\u001b[0;34m\u001b[0m\u001b[0;34m\u001b[0m\u001b[0m\n\u001b[1;32m     18\u001b[0m         \u001b[0;32mreturn\u001b[0m \u001b[0mright\u001b[0m\u001b[0;34m\u001b[0m\u001b[0;34m\u001b[0m\u001b[0m\n",
      "\u001b[0;31mIndexError\u001b[0m: index 666 is out of bounds for axis 0 with size 666"
     ]
    }
   ],
   "source": [
    "aod_list = retrieve_batch()"
   ]
  },
  {
   "cell_type": "code",
   "execution_count": null,
   "metadata": {
    "pycharm": {
     "name": "#%%\n"
    }
   },
   "outputs": [],
   "source": [
    "fig, ax = plt.subplots(4,3)\n",
    "for "
   ]
  }
 ],
 "metadata": {
  "kernelspec": {
   "display_name": "Python 3",
   "language": "python",
   "name": "python3"
  },
  "language_info": {
   "codemirror_mode": {
    "name": "ipython",
    "version": 3
   },
   "file_extension": ".py",
   "mimetype": "text/x-python",
   "name": "python",
   "nbconvert_exporter": "python",
   "pygments_lexer": "ipython3",
   "version": "3.7.5"
  },
  "pycharm": {
   "stem_cell": {
    "cell_type": "raw",
    "metadata": {
     "collapsed": false
    },
    "source": []
   }
  }
 },
 "nbformat": 4,
 "nbformat_minor": 1
}
